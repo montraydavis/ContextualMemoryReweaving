{
 "cells": [
  {
   "cell_type": "markdown",
   "id": "c879d1e9",
   "metadata": {},
   "source": [
    "# Context Memory Reweaving Experiment #1\n",
    "\n",
    "This tutorial-style notebook walks you through Contextual Memory Reweaving (CMR) step by step. Each cell focuses on a single task so you can follow along and adapt it to your workflow.\n",
    "\n",
    "What you’ll learn:\n",
    "- Minimal environment checks and setup\n",
    "- How to import the CMR model interface\n",
    "- Where outputs are saved\n",
    "\n",
    "References:\n",
    "- CMR overview: [docs/python/README.md](../docs/python/README.md)\n",
    "- Integration guide: [docs/python/integration/README.md](../docs/python/integration/README.md)\n",
    "- Models overview: [docs/python/models/README.md](../docs/python/models/README.md)\n",
    "\n",
    "Outputs will be written to `test_output/` at the repository root.\n"
   ]
  },
  {
   "cell_type": "markdown",
   "id": "90635f1f",
   "metadata": {},
   "source": [
    "# Part A — Orientation and setup"
   ]
  },
  {
   "cell_type": "markdown",
   "id": "4f3aa792",
   "metadata": {},
   "source": [
    "Brief: In Part A you’ll verify dependencies, set up imports, and create output folders (`test_output/`, `test_output/plots/`)."
   ]
  },
  {
   "cell_type": "markdown",
   "id": "5285b202",
   "metadata": {},
   "source": [
    "### A1 — Check environment\n",
    "Quickly detect the availability of optional libraries used in this notebook (`torch`, `transformers`, `ipywidgets`, `matplotlib`, `psutil`). The next cell prints a JSON summary.\n"
   ]
  },
  {
   "cell_type": "code",
   "execution_count": 2,
   "id": "15496154",
   "metadata": {},
   "outputs": [
    {
     "name": "stdout",
     "output_type": "stream",
     "text": [
      "{\n",
      "  \"torch\": true,\n",
      "  \"transformers\": true,\n",
      "  \"ipywidgets\": true,\n",
      "  \"matplotlib\": true,\n",
      "  \"psutil\": true\n",
      "}\n"
     ]
    }
   ],
   "source": [
    "# A1 — Check environment (dependencies)\n",
    "import json\n",
    "from importlib.util import find_spec\n",
    "\n",
    "availability = {\n",
    "    \"torch\": find_spec(\"torch\") is not None,\n",
    "    \"transformers\": find_spec(\"transformers\") is not None,\n",
    "    \"ipywidgets\": find_spec(\"ipywidgets\") is not None,\n",
    "    \"matplotlib\": find_spec(\"matplotlib\") is not None,\n",
    "    \"psutil\": find_spec(\"psutil\") is not None,\n",
    "}\n",
    "print(json.dumps(availability, indent=2))"
   ]
  },
  {
   "cell_type": "markdown",
   "id": "c350fa62",
   "metadata": {},
   "source": [
    "### A2 — Add repo path and verify imports\n",
    "Append `../python` to `sys.path` so imports resolve to the repository’s `python/` package. Then attempt to import `models.base_transformer.CMRTransformer` to verify setup.\n"
   ]
  },
  {
   "cell_type": "code",
   "execution_count": 2,
   "id": "3b08c0ab",
   "metadata": {},
   "outputs": [
    {
     "name": "stderr",
     "output_type": "stream",
     "text": [
      "/Users/montraydavis/contextual-memory-reweaving/.venv/lib/python3.9/site-packages/urllib3/__init__.py:35: NotOpenSSLWarning: urllib3 v2 only supports OpenSSL 1.1.1+, currently the 'ssl' module is compiled with 'LibreSSL 2.8.3'. See: https://github.com/urllib3/urllib3/issues/3020\n",
      "  warnings.warn(\n"
     ]
    },
    {
     "name": "stdout",
     "output_type": "stream",
     "text": [
      "CMRTransformer import: OK\n"
     ]
    }
   ],
   "source": [
    "# A2 — Add repo python path and verify core import\n",
    "import os, sys\n",
    "\n",
    "REPO_PY_PATH = os.path.abspath(os.path.join(os.getcwd(), \"..\", \"python\"))\n",
    "if REPO_PY_PATH not in sys.path:\n",
    "    sys.path.append(REPO_PY_PATH)\n",
    "\n",
    "try:\n",
    "    from models.base_transformer import CMRTransformer  # noqa: F401\n",
    "    print(\"CMRTransformer import: OK\")\n",
    "except Exception as e:\n",
    "    print(\"CMRTransformer import: FAILED\", e)\n"
   ]
  },
  {
   "cell_type": "markdown",
   "id": "e666f580",
   "metadata": {},
   "source": [
    "### A3 — Prepare output directories\n",
    "This step creates the output folders used by later parts of the notebook.\n",
    "- Root artifacts: `test_output/`\n",
    "- Figures: `test_output/plots/`\n",
    "The next cell will create these directories if they do not exist and print the absolute path.\n"
   ]
  },
  {
   "cell_type": "code",
   "execution_count": 3,
   "id": "c7640f4c",
   "metadata": {},
   "outputs": [
    {
     "name": "stdout",
     "output_type": "stream",
     "text": [
      "Output directories ready: /Users/montraydavis/contextual-memory-reweaving/test_output\n"
     ]
    }
   ],
   "source": [
    "# A3 — Prepare output directories\n",
    "import os\n",
    "\n",
    "OUT_DIR = os.path.abspath(os.path.join(os.getcwd(), \"..\", \"test_output\"))\n",
    "PLOTS_DIR = os.path.join(OUT_DIR, \"plots\")\n",
    "os.makedirs(PLOTS_DIR, exist_ok=True)\n",
    "print(\"Output directories ready:\", OUT_DIR)\n"
   ]
  },
  {
   "cell_type": "markdown",
   "id": "7cb2b7fd",
   "metadata": {},
   "source": [
    "## Part B — Minimal configuration\n",
    "\n",
    "We’ll set the minimal configuration variables used later:\n",
    "- Device (`cpu`/`cuda`/`mps`)\n",
    "- Backbone adapter (`auto`, `mistral`, `gemma`)\n",
    "- Model id (e.g., `gpt2`)\n",
    "- Memory config: `target_layers`, `buffer_size`\n",
    "\n",
    "See also: [docs/python/integration/README.md](../docs/python/integration/README.md) and [docs/python/models/README.md](../docs/python/models/README.md).\n"
   ]
  },
  {
   "cell_type": "markdown",
   "id": "dc73c953",
   "metadata": {},
   "source": [
    "### B1 — Device selection\n",
    "Detect an available device in this order: CUDA GPU, Apple Metal (MPS), then CPU. The next cell sets `DEVICE` accordingly.\n"
   ]
  },
  {
   "cell_type": "code",
   "execution_count": 3,
   "id": "b29abfe4",
   "metadata": {},
   "outputs": [
    {
     "name": "stdout",
     "output_type": "stream",
     "text": [
      "DEVICE: mps\n"
     ]
    }
   ],
   "source": [
    "# B1 — Select device\n",
    "import torch\n",
    "\n",
    "DEVICE = \"cpu\"\n",
    "if torch.cuda.is_available():\n",
    "    DEVICE = \"cuda\"\n",
    "elif getattr(torch.backends, \"mps\", None) and torch.backends.mps.is_available():\n",
    "    DEVICE = \"mps\"\n",
    "print(\"DEVICE:\", DEVICE)\n"
   ]
  },
  {
   "cell_type": "markdown",
   "id": "eb2d7d1c",
   "metadata": {},
   "source": [
    "### B2 — Backbone adapter choice\n",
    "Select which adapter to use. `auto` attempts to pick based on the model id; you can force `mistral` or `gemma` if desired.\n",
    "Adapter registry source: `python/models/backbones/registry.py`.\n"
   ]
  },
  {
   "cell_type": "code",
   "execution_count": 5,
   "id": "af621ad8",
   "metadata": {},
   "outputs": [
    {
     "name": "stdout",
     "output_type": "stream",
     "text": [
      "ADAPTER_NAME: gemma\n"
     ]
    }
   ],
   "source": [
    "# B2 — Choose backbone adapter\n",
    "# Options: \"auto\", \"mistral\", \"gemma\"\n",
    "ADAPTER_NAME = \"gemma\"\n",
    "print(\"ADAPTER_NAME:\", ADAPTER_NAME)\n"
   ]
  },
  {
   "cell_type": "markdown",
   "id": "bf7cb75a",
   "metadata": {},
   "source": [
    "### B3 — Model id selection\n",
    "Choose a model identifier compatible with your chosen adapter. For quick local runs, `gpt2` is a small default.\n",
    "You can change this later (e.g., to `google/gemma-3-4b-it` if integrated).\n"
   ]
  },
  {
   "cell_type": "code",
   "execution_count": 6,
   "id": "d2d872d6",
   "metadata": {},
   "outputs": [
    {
     "name": "stdout",
     "output_type": "stream",
     "text": [
      "MODEL_NAME: google/gemma-3-4b-it\n"
     ]
    }
   ],
   "source": [
    "# B3 — Choose model id\n",
    "# You can change this to a specific model your adapter supports\n",
    "MODEL_NAME = \"google/gemma-3-4b-it\"\n",
    "print(\"MODEL_NAME:\", MODEL_NAME)\n"
   ]
  },
  {
   "cell_type": "markdown",
   "id": "09497015",
   "metadata": {},
   "source": [
    "### B4 — Memory config overview\n",
    "Define which transformer layers to capture (`TARGET_LAYERS`) and how many memory states to retain per layer (`BUFFER_SIZE`).\n",
    "- Layers are zero-based indices.\n",
    "- `BUFFER_SIZE` must be at least 1.\n",
    "The following cell sets defaults and validates them.\n"
   ]
  },
  {
   "cell_type": "code",
   "execution_count": 7,
   "id": "0db1ca8b",
   "metadata": {},
   "outputs": [
    {
     "name": "stdout",
     "output_type": "stream",
     "text": [
      "{'TARGET_LAYERS': [2, 4], 'BUFFER_SIZE': 20}\n"
     ]
    }
   ],
   "source": [
    "# B4 — Memory config (target_layers, buffer_size)\n",
    "TARGET_LAYERS = [2, 4]\n",
    "BUFFER_SIZE = 20\n",
    "\n",
    "# Minimal validation\n",
    "if not TARGET_LAYERS:\n",
    "    raise ValueError(\"At least one target layer is required\")\n",
    "if BUFFER_SIZE < 1:\n",
    "    raise ValueError(\"BUFFER_SIZE must be >= 1\")\n",
    "\n",
    "print({\"TARGET_LAYERS\": TARGET_LAYERS, \"BUFFER_SIZE\": BUFFER_SIZE})\n"
   ]
  },
  {
   "cell_type": "markdown",
   "id": "a4060ac4",
   "metadata": {},
   "source": [
    "### B5 — Optional widget config\n",
    "Use a small widget panel to adjust the same configuration values interactively:\n",
    "- `DEVICE`, `ADAPTER_NAME`, `MODEL_NAME`\n",
    "- `TARGET_LAYERS` (comma-separated), `BUFFER_SIZE`\n",
    "\n",
    "If `ipywidgets` is not installed, this cell prints a skip message.\n"
   ]
  },
  {
   "cell_type": "code",
   "execution_count": 8,
   "id": "85f9abd5",
   "metadata": {},
   "outputs": [
    {
     "data": {
      "application/vnd.jupyter.widget-view+json": {
       "model_id": "40544a05c3394634af89cda350f55fe8",
       "version_major": 2,
       "version_minor": 0
      },
      "text/plain": [
       "VBox(children=(HBox(children=(Dropdown(description='Device:', index=2, options=('cpu', 'cuda', 'mps'), value='…"
      ]
     },
     "metadata": {},
     "output_type": "display_data"
    }
   ],
   "source": [
    "# (Optional) B5 — Tiny widgets to edit config if ipywidgets is available\n",
    "try:\n",
    "    import ipywidgets as widgets\n",
    "    from IPython.display import display, clear_output\n",
    "    has_widgets = True\n",
    "except Exception:\n",
    "    has_widgets = False\n",
    "\n",
    "if has_widgets:\n",
    "    w_device = widgets.Dropdown(options=[\"cpu\", \"cuda\", \"mps\"], value=DEVICE, description=\"Device:\")\n",
    "    w_adapter = widgets.Dropdown(options=[\"auto\", \"mistral\", \"gemma\"], value=ADAPTER_NAME, description=\"Adapter:\")\n",
    "    w_model = widgets.Text(value=MODEL_NAME, description=\"Model id:\")\n",
    "    w_layers = widgets.Text(value=\",\".join(map(str, TARGET_LAYERS)), description=\"Layers:\")\n",
    "    w_buf = widgets.BoundedIntText(value=BUFFER_SIZE, min=1, max=1024, step=1, description=\"Buffer:\")\n",
    "    w_apply = widgets.Button(description=\"Apply\", button_style=\"success\")\n",
    "    w_status = widgets.Output()\n",
    "\n",
    "    def _parse_layers(text: str):\n",
    "        parts = [p.strip() for p in text.split(\",\") if p.strip()]\n",
    "        vals = []\n",
    "        for p in parts:\n",
    "            if not p.isdigit():\n",
    "                raise ValueError(f\"Layer '{p}' is not an integer\")\n",
    "            vals.append(int(p))\n",
    "        return vals\n",
    "\n",
    "    def on_apply_clicked(_):\n",
    "        with w_status:\n",
    "            clear_output()\n",
    "            try:\n",
    "                global DEVICE, ADAPTER_NAME, MODEL_NAME, TARGET_LAYERS, BUFFER_SIZE\n",
    "                DEVICE = w_device.value\n",
    "                ADAPTER_NAME = w_adapter.value\n",
    "                MODEL_NAME = w_model.value.strip() or MODEL_NAME\n",
    "                TARGET_LAYERS = _parse_layers(w_layers.value)\n",
    "                if len(TARGET_LAYERS) == 0:\n",
    "                    raise ValueError(\"At least one target layer is required\")\n",
    "                BUFFER_SIZE = int(w_buf.value)\n",
    "                if BUFFER_SIZE < 1:\n",
    "                    raise ValueError(\"BUFFER_SIZE must be >= 1\")\n",
    "                print(\"Applied:\", {\n",
    "                    \"DEVICE\": DEVICE,\n",
    "                    \"ADAPTER_NAME\": ADAPTER_NAME,\n",
    "                    \"MODEL_NAME\": MODEL_NAME,\n",
    "                    \"TARGET_LAYERS\": TARGET_LAYERS,\n",
    "                    \"BUFFER_SIZE\": BUFFER_SIZE,\n",
    "                })\n",
    "            except Exception as e:\n",
    "                print(\"Validation error:\", e)\n",
    "\n",
    "    w_apply.on_click(on_apply_clicked)\n",
    "    display(widgets.VBox([\n",
    "        widgets.HBox([w_device, w_adapter]),\n",
    "        widgets.HBox([w_model]),\n",
    "        widgets.HBox([w_layers, w_buf]),\n",
    "        w_apply,\n",
    "        w_status,\n",
    "    ]))\n",
    "else:\n",
    "    print(\"ipywidgets not available — skipping optional widget config.\")\n"
   ]
  },
  {
   "cell_type": "markdown",
   "id": "630b303e",
   "metadata": {},
   "source": [
    "## Part C — Build and validate the model\n",
    "\n",
    "We’ll use the lightweight `CMRTransformer` to keep this walkthrough fast and offline-friendly. We’ll construct the model, validate `TARGET_LAYERS` vs model depth, and ensure memory hooks are active.\n"
   ]
  },
  {
   "cell_type": "markdown",
   "id": "a3d32dca",
   "metadata": {},
   "source": [
    "### C1 — Create a small CMRTransformer\n",
    "This minimal model lives in `models.base_transformer.CMRTransformer` and provides:\n",
    "- A small Transformer stack\n",
    "- `register_memory_hooks()` for capturing states on `TARGET_LAYERS`\n",
    "The next cell builds the model with your `TARGET_LAYERS` and `BUFFER_SIZE`.\n"
   ]
  },
  {
   "cell_type": "code",
   "execution_count": 9,
   "id": "e1e3e34f",
   "metadata": {},
   "outputs": [
    {
     "name": "stdout",
     "output_type": "stream",
     "text": [
      "CMRTransformer ready on mps\n"
     ]
    }
   ],
   "source": [
    "# C1 — Instantiate CMRTransformer (fixed: no direct AutoConfig())\n",
    "from types import SimpleNamespace\n",
    "from models.base_transformer import CMRTransformer\n",
    "\n",
    "# Minimal config object with only required fields\n",
    "base_cfg = SimpleNamespace(vocab_size=50257, num_hidden_layers=8)\n",
    "\n",
    "memory_config = {\n",
    "    \"target_layers\": TARGET_LAYERS,\n",
    "    \"buffer_size\": BUFFER_SIZE,\n",
    "}\n",
    "\n",
    "cmr = CMRTransformer(config=base_cfg, memory_config=memory_config)\n",
    "cmr.to(DEVICE)\n",
    "\n",
    "# Ensure nested layers move too (workaround for SimpleNamespace)\n",
    "if hasattr(cmr, \"transformer\") and hasattr(cmr.transformer, \"h\"):\n",
    "    for lyr in cmr.transformer.h:\n",
    "        lyr.to(DEVICE)\n",
    "\n",
    "print(\"CMRTransformer ready on\", DEVICE)"
   ]
  },
  {
   "cell_type": "markdown",
   "id": "fee0ffe0",
   "metadata": {},
   "source": [
    "### C2 — Validate layers vs model depth\n",
    "Check that each index in `TARGET_LAYERS` is within the transformer depth. Warn if any are out of range.\n"
   ]
  },
  {
   "cell_type": "code",
   "execution_count": 10,
   "id": "c1f35f03",
   "metadata": {},
   "outputs": [
    {
     "name": "stdout",
     "output_type": "stream",
     "text": [
      "{'num_layers': 8, 'TARGET_LAYERS': [2, 4]}\n",
      "All target layers are valid.\n"
     ]
    }
   ],
   "source": [
    "# C2 — Validate target layers\n",
    "num_layers = len(cmr.transformer.h)\n",
    "invalid = [idx for idx in TARGET_LAYERS if idx < 0 or idx >= num_layers]\n",
    "print({\"num_layers\": num_layers, \"TARGET_LAYERS\": TARGET_LAYERS})\n",
    "if invalid:\n",
    "    print(\"Warning: some target layers are out of range:\", invalid)\n",
    "else:\n",
    "    print(\"All target layers are valid.\")\n"
   ]
  },
  {
   "cell_type": "markdown",
   "id": "ae4ba3eb",
   "metadata": {},
   "source": [
    "### C3 — Register memory hooks\n",
    "Enable memory capture by registering hooks on `TARGET_LAYERS`. We’ll also confirm which hooks are active.\n"
   ]
  },
  {
   "cell_type": "code",
   "execution_count": 11,
   "id": "f261c08c",
   "metadata": {},
   "outputs": [
    {
     "name": "stdout",
     "output_type": "stream",
     "text": [
      "Active hook layers: [2, 4]\n"
     ]
    }
   ],
   "source": [
    "# C3 — Register memory hooks\n",
    "cmr.register_memory_hooks()\n",
    "active_hook_layers = sorted(list(cmr.layer_hooks.keys()))\n",
    "print(\"Active hook layers:\", active_hook_layers)\n"
   ]
  },
  {
   "cell_type": "markdown",
   "id": "cc895680",
   "metadata": {},
   "source": [
    "## Part D — Minimal tokenization utilities\n",
    "We’ll keep tokenization simple for this walkthrough to avoid heavy dependencies, but also show how to switch to a HuggingFace tokenizer if desired.\n"
   ]
  },
  {
   "cell_type": "markdown",
   "id": "9d03031f",
   "metadata": {},
   "source": [
    "### D1 — Tokenization choices\n",
    "Two options:\n",
    "- Tiny toy tokenizer: fast, no downloads; maps whitespace-separated tokens to ids.\n",
    "- HF tokenizer (optional): uses `transformers` if installed; better for real models.\n",
    "We’ll default to the tiny tokenizer and add a flag to switch.\n"
   ]
  },
  {
   "cell_type": "code",
   "execution_count": 12,
   "id": "b9867d93",
   "metadata": {},
   "outputs": [
    {
     "name": "stdout",
     "output_type": "stream",
     "text": [
      "Using HF tokenizer for: google/gemma-3-4b-it\n"
     ]
    }
   ],
   "source": [
    "# D1 — Build a tiny tokenizer and optional HF tokenizer\n",
    "USE_HF_TOKENIZER = True  # flip to True to use HuggingFace tokenizer when available\n",
    "\n",
    "# Tiny tokenizer: whitespace split with a growing vocab\n",
    "toy_vocab = {\"<pad>\": 0, \"<unk>\": 1}\n",
    "\n",
    "def toy_encode(text: str):\n",
    "    tokens = text.strip().split()\n",
    "    ids = []\n",
    "    for tok in tokens:\n",
    "        if tok not in toy_vocab:\n",
    "            toy_vocab[tok] = len(toy_vocab)\n",
    "        ids.append(toy_vocab.get(tok, toy_vocab[\"<unk>\"]))\n",
    "    return ids\n",
    "\n",
    "def toy_decode(ids):\n",
    "    inv_vocab = {i: t for t, i in toy_vocab.items()}\n",
    "    return \" \".join(inv_vocab.get(i, \"<unk>\") for i in ids)\n",
    "\n",
    "# Optional HF tokenizer\n",
    "hf_tokenizer = None\n",
    "if USE_HF_TOKENIZER:\n",
    "    try:\n",
    "        from transformers import AutoTokenizer\n",
    "        hf_tokenizer = AutoTokenizer.from_pretrained(MODEL_NAME)\n",
    "        print(\"Using HF tokenizer for:\", MODEL_NAME)\n",
    "    except Exception as e:\n",
    "        print(\"Falling back to toy tokenizer (HF load failed):\", e)\n",
    "        hf_tokenizer = None\n",
    "else:\n",
    "    print(\"Using toy tokenizer (default)\")\n"
   ]
  },
  {
   "cell_type": "markdown",
   "id": "77142c29",
   "metadata": {},
   "source": [
    "### D2 — Encode/decode helpers\n",
    "Simple wrappers that return tensors on the selected `DEVICE` for downstream steps.\n"
   ]
  },
  {
   "cell_type": "code",
   "execution_count": 13,
   "id": "9c2b254f",
   "metadata": {},
   "outputs": [
    {
     "name": "stdout",
     "output_type": "stream",
     "text": [
      "Encoded shape: (1, 2) -> hello world\n"
     ]
    }
   ],
   "source": [
    "# D2 — Encode/decode wrappers\n",
    "import torch\n",
    "\n",
    "def encode(text: str) -> torch.LongTensor:\n",
    "    if hf_tokenizer is not None:\n",
    "        ids = hf_tokenizer.encode(text, add_special_tokens=False)\n",
    "    else:\n",
    "        ids = toy_encode(text)\n",
    "    if len(ids) == 0:\n",
    "        ids = [toy_vocab.get(\"<unk>\", 1)]\n",
    "    return torch.tensor(ids, dtype=torch.long, device=DEVICE).unsqueeze(0)  # [1, T]\n",
    "\n",
    "def decode(ids: torch.LongTensor) -> str:\n",
    "    arr = ids.detach().cpu().view(-1).tolist()\n",
    "    if hf_tokenizer is not None:\n",
    "        return hf_tokenizer.decode(arr)\n",
    "    return toy_decode(arr)\n",
    "\n",
    "# Quick sanity test\n",
    "_sample = encode(\"hello world\")\n",
    "print(\"Encoded shape:\", tuple(_sample.shape), \"->\", decode(_sample))\n",
    "\n"
   ]
  },
  {
   "cell_type": "markdown",
   "id": "96bffe6c",
   "metadata": {},
   "source": [
    "## Part E — Define a tiny scenario\n",
    "We’ll model a knowledgebase for a hypothetical web banking app. Each entry describes a page and its purpose. One entry is privacy-marked to simulate sensitive content handling.\n"
   ]
  },
  {
   "cell_type": "markdown",
   "id": "06d8e82b",
   "metadata": {},
   "source": [
    "### E1 — Scenario structure\n",
    "- Format: list of dicts with fields `text` and `privacy`\n",
    "- `privacy=True` entries should not be captured into memory when privacy is enforced\n"
   ]
  },
  {
   "cell_type": "code",
   "execution_count": 14,
   "id": "96c9ed15",
   "metadata": {},
   "outputs": [
    {
     "name": "stdout",
     "output_type": "stream",
     "text": [
      "Scenario length: 10\n",
      "Preview:\n",
      "1. privacy=False -> Login page: users authenticate with email + password; supports 2FA via SMS or authenticator app.\n",
      "Login Steps:\n",
      "1. Enter email\n",
      "2. Enter password\n",
      "3. Click login\n",
      "4. Enter 2FA code\n",
      "5. Click logins\n",
      "2. privacy=False -> Dashboard page: overview of balances across checking, savings, and credit cards, with recent transactions.\n",
      "3. privacy=False -> Accounts page: detailed account list with account number masked, interest rate, and downloadable statements.\n"
     ]
    }
   ],
   "source": [
    "# E1 — Banking app knowledgebase scenario\n",
    "SCENARIO = [\n",
    "    {\"text\": \"Login page: users authenticate with email + password; supports 2FA via SMS or authenticator app.\\nLogin Steps:\\n1. Enter email\\n2. Enter password\\n3. Click login\\n4. Enter 2FA code\\n5. Click logins\", \"privacy\": False},\n",
    "    {\"text\": \"Dashboard page: overview of balances across checking, savings, and credit cards, with recent transactions.\", \"privacy\": False},\n",
    "    {\"text\": \"Accounts page: detailed account list with account number masked, interest rate, and downloadable statements.\", \"privacy\": False},\n",
    "    {\"text\": \"Transactions page: searchable ledger; filters by date range, amount, merchant category; CSV export available.\", \"privacy\": False},\n",
    "    {\"text\": \"Transfers page: internal transfers between checking/savings; external ACH with verification and limits.\", \"privacy\": False},\n",
    "    {\"text\": \"Bill Pay page: schedule payments to known payees; recurring rules; reminders and failed-payment alerts.\", \"privacy\": False},\n",
    "    {\"text\": \"Card Management page: freeze/unfreeze card, set travel notices, view virtual card numbers, spending limits.\", \"privacy\": False},\n",
    "    {\"text\": \"Support page: in-app secure messaging, dispute a charge, FAQs; SLA targets and escalation paths.\", \"privacy\": False},\n",
    "    {\"text\": \"Settings page: profile, contact info, notification preferences, device management, and session history.\", \"privacy\": False},\n",
    "    {\"text\": \"Admin page: internal tooling for risk review, KYC document access, and manual overrides. Contains PII.\", \"privacy\": True},\n",
    "]\n",
    "\n",
    "print(\"Scenario length:\", len(SCENARIO))\n",
    "print(\"Preview:\")\n",
    "for i, item in enumerate(SCENARIO[:3], 1):\n",
    "    print(f\"{i}. privacy={item['privacy']} -> {item['text']}\")\n"
   ]
  },
  {
   "cell_type": "markdown",
   "id": "115cae40",
   "metadata": {},
   "source": [
    "### E2 — Human-readable scenario overview\n",
    "A simple table of the scenario so you can skim what each step is about:\n",
    "- Columns: Step, Privacy, Page, Description\n",
    "- “Privacy” indicates entries that should not be captured into memory when privacy is enforced"
   ]
  },
  {
   "cell_type": "code",
   "execution_count": 15,
   "id": "190bac65",
   "metadata": {},
   "outputs": [
    {
     "data": {
      "text/html": [
       "<div>\n",
       "<style scoped>\n",
       "    .dataframe tbody tr th:only-of-type {\n",
       "        vertical-align: middle;\n",
       "    }\n",
       "\n",
       "    .dataframe tbody tr th {\n",
       "        vertical-align: top;\n",
       "    }\n",
       "\n",
       "    .dataframe thead th {\n",
       "        text-align: right;\n",
       "    }\n",
       "</style>\n",
       "<table border=\"1\" class=\"dataframe\">\n",
       "  <thead>\n",
       "    <tr style=\"text-align: right;\">\n",
       "      <th></th>\n",
       "      <th>Step</th>\n",
       "      <th>Privacy</th>\n",
       "      <th>Page</th>\n",
       "      <th>Description</th>\n",
       "    </tr>\n",
       "  </thead>\n",
       "  <tbody>\n",
       "    <tr>\n",
       "      <th>0</th>\n",
       "      <td>1</td>\n",
       "      <td>Public</td>\n",
       "      <td>Login</td>\n",
       "      <td>Login page: users authenticate with email + pa...</td>\n",
       "    </tr>\n",
       "    <tr>\n",
       "      <th>1</th>\n",
       "      <td>2</td>\n",
       "      <td>Public</td>\n",
       "      <td>Dashboard</td>\n",
       "      <td>Dashboard page: overview of balances across ch...</td>\n",
       "    </tr>\n",
       "    <tr>\n",
       "      <th>2</th>\n",
       "      <td>3</td>\n",
       "      <td>Public</td>\n",
       "      <td>Accounts</td>\n",
       "      <td>Accounts page: detailed account list with acco...</td>\n",
       "    </tr>\n",
       "    <tr>\n",
       "      <th>3</th>\n",
       "      <td>4</td>\n",
       "      <td>Public</td>\n",
       "      <td>Transactions</td>\n",
       "      <td>Transactions page: searchable ledger; filters ...</td>\n",
       "    </tr>\n",
       "    <tr>\n",
       "      <th>4</th>\n",
       "      <td>5</td>\n",
       "      <td>Public</td>\n",
       "      <td>Transfers</td>\n",
       "      <td>Transfers page: internal transfers between che...</td>\n",
       "    </tr>\n",
       "    <tr>\n",
       "      <th>5</th>\n",
       "      <td>6</td>\n",
       "      <td>Public</td>\n",
       "      <td>Bill Pay</td>\n",
       "      <td>Bill Pay page: schedule payments to known paye...</td>\n",
       "    </tr>\n",
       "    <tr>\n",
       "      <th>6</th>\n",
       "      <td>7</td>\n",
       "      <td>Public</td>\n",
       "      <td>Card Management</td>\n",
       "      <td>Card Management page: freeze/unfreeze card, se...</td>\n",
       "    </tr>\n",
       "    <tr>\n",
       "      <th>7</th>\n",
       "      <td>8</td>\n",
       "      <td>Public</td>\n",
       "      <td>Support</td>\n",
       "      <td>Support page: in-app secure messaging, dispute...</td>\n",
       "    </tr>\n",
       "    <tr>\n",
       "      <th>8</th>\n",
       "      <td>9</td>\n",
       "      <td>Public</td>\n",
       "      <td>Settings</td>\n",
       "      <td>Settings page: profile, contact info, notifica...</td>\n",
       "    </tr>\n",
       "    <tr>\n",
       "      <th>9</th>\n",
       "      <td>10</td>\n",
       "      <td>Private</td>\n",
       "      <td>Admin</td>\n",
       "      <td>Admin page: internal tooling for risk review, ...</td>\n",
       "    </tr>\n",
       "  </tbody>\n",
       "</table>\n",
       "</div>"
      ],
      "text/plain": [
       "   Step  Privacy             Page  \\\n",
       "0     1   Public            Login   \n",
       "1     2   Public        Dashboard   \n",
       "2     3   Public         Accounts   \n",
       "3     4   Public     Transactions   \n",
       "4     5   Public        Transfers   \n",
       "5     6   Public         Bill Pay   \n",
       "6     7   Public  Card Management   \n",
       "7     8   Public          Support   \n",
       "8     9   Public         Settings   \n",
       "9    10  Private            Admin   \n",
       "\n",
       "                                         Description  \n",
       "0  Login page: users authenticate with email + pa...  \n",
       "1  Dashboard page: overview of balances across ch...  \n",
       "2  Accounts page: detailed account list with acco...  \n",
       "3  Transactions page: searchable ledger; filters ...  \n",
       "4  Transfers page: internal transfers between che...  \n",
       "5  Bill Pay page: schedule payments to known paye...  \n",
       "6  Card Management page: freeze/unfreeze card, se...  \n",
       "7  Support page: in-app secure messaging, dispute...  \n",
       "8  Settings page: profile, contact info, notifica...  \n",
       "9  Admin page: internal tooling for risk review, ...  "
      ]
     },
     "metadata": {},
     "output_type": "display_data"
    },
    {
     "name": "stdout",
     "output_type": "stream",
     "text": [
      "🔓 Step 1: Login — Login page: users authenticate with email + password; supports 2FA via SMS or authenticator app.\n",
      "Login Steps:\n",
      "1. Enter email\n",
      "2. Enter password\n",
      "3. Click login\n",
      "4. Enter 2FA code\n",
      "5. Click logins\n",
      "🔓 Step 2: Dashboard — Dashboard page: overview of balances across checking, savings, and credit cards, with recent transactions.\n",
      "🔓 Step 3: Accounts — Accounts page: detailed account list with account number masked, interest rate, and downloadable statements.\n",
      "🔓 Step 4: Transactions — Transactions page: searchable ledger; filters by date range, amount, merchant category; CSV export available.\n",
      "🔓 Step 5: Transfers — Transfers page: internal transfers between checking/savings; external ACH with verification and limits.\n",
      "🔓 Step 6: Bill Pay — Bill Pay page: schedule payments to known payees; recurring rules; reminders and failed-payment alerts.\n",
      "🔓 Step 7: Card Management — Card Management page: freeze/unfreeze card, set travel notices, view virtual card numbers, spending limits.\n",
      "🔓 Step 8: Support — Support page: in-app secure messaging, dispute a charge, FAQs; SLA targets and escalation paths.\n",
      "🔓 Step 9: Settings — Settings page: profile, contact info, notification preferences, device management, and session history.\n",
      "🔒 Step 10: Admin — Admin page: internal tooling for risk review, KYC document access, and manual overrides. Contains PII.\n"
     ]
    }
   ],
   "source": [
    "# E2 — Human-readable scenario overview\n",
    "try:\n",
    "    import pandas as pd\n",
    "except Exception:\n",
    "    pd = None\n",
    "\n",
    "def parse_page(text: str) -> str:\n",
    "    # Heuristic: everything before \" page\" or first colon\n",
    "    if \" page\" in text.lower():\n",
    "        return text.split(\" page\", 1)[0].strip().title()\n",
    "    return text.split(\":\", 1)[0].strip().title()\n",
    "\n",
    "rows = []\n",
    "for i, it in enumerate(SCENARIO, 1):\n",
    "    rows.append({\n",
    "        \"Step\": i,\n",
    "        \"Privacy\": \"Private\" if it[\"privacy\"] else \"Public\",\n",
    "        \"Page\": parse_page(it[\"text\"]),\n",
    "        \"Description\": it[\"text\"],\n",
    "    })\n",
    "\n",
    "if pd:\n",
    "    display(pd.DataFrame(rows))\n",
    "else:\n",
    "    print(\"Step | Privacy | Page         | Description\")\n",
    "    for r in rows:\n",
    "        print(f\"{r['Step']:>4} | {r['Privacy']:^7} | {r['Page'][:12]:<12} | {r['Description']}\")\n",
    "\n",
    "# E3 — Storyboard (emoji)\n",
    "for r in rows:\n",
    "    lock = \"🔒\" if r[\"Privacy\"] == \"Private\" else \"🔓\"\n",
    "    print(f\"{lock} Step {r['Step']}: {r['Page']} — {r['Description']}\")"
   ]
  },
  {
   "cell_type": "markdown",
   "id": "4a842d44",
   "metadata": {},
   "source": [
    "## Part F — Single-step run and inspection\n",
    "We’ll execute only the first scenario entry, then inspect memory stats and a single captured entry for a quick sanity check.\n"
   ]
  },
  {
   "cell_type": "markdown",
   "id": "0aa03e78",
   "metadata": {},
   "source": [
    "### F1 — Run 1 step\n",
    "We’ll encode the first `SCENARIO` text, run a forward pass, and collect outputs. Ensure `cmr.memory_enabled=True` for this step.\n"
   ]
  },
  {
   "cell_type": "code",
   "execution_count": 16,
   "id": "7b31ea9d",
   "metadata": {},
   "outputs": [
    {
     "name": "stdout",
     "output_type": "stream",
     "text": [
      "Ran step for: Login page: users authenticate with email + password; supports 2FA via SMS or au...\n",
      "Memory stats keys: ['last_hidden_state', 'captured_memory_states', 'memory_stats']\n",
      "Layer 2: last entry (1, 53, 128) ~ 26.5KB\n"
     ]
    }
   ],
   "source": [
    "# F1 — Run a single step\n",
    "def pretty_bytes(n):\n",
    "    for unit in [\"B\",\"KB\",\"MB\",\"GB\"]:\n",
    "        if n < 1024: return f\"{n:.1f}{unit}\"\n",
    "        n /= 1024\n",
    "    return f\"{n:.1f}TB\"\n",
    "\n",
    "def sample_entry_digest(cmr, layer_idx):\n",
    "    buf = cmr.captured_memory_states.get(layer_idx, [])\n",
    "    if not buf: return \"No entries\"\n",
    "    hs = buf[-1][\"hidden_state\"]\n",
    "    size = hs.numel() * hs.element_size()\n",
    "    return f\"Layer {layer_idx}: last entry {tuple(hs.shape)} ~ {pretty_bytes(size)}\"\n",
    "\n",
    "cmr.enable_memory()\n",
    "first = SCENARIO[0]\n",
    "text = first[\"text\"]\n",
    "input_ids = encode(text)\n",
    "outputs = cmr(input_ids)\n",
    "print(\"Ran step for:\", text[:80] + (\"...\" if len(text) > 80 else \"\"))\n",
    "print(\"Memory stats keys:\", list(outputs.keys()))\n",
    "\n",
    "# Example after F1\n",
    "for lyr in (TARGET_LAYERS[:1] or [0]):\n",
    "    print(sample_entry_digest(cmr, lyr))\n"
   ]
  },
  {
   "cell_type": "markdown",
   "id": "59600199",
   "metadata": {},
   "source": [
    "### F2 — Inspect memory stats (single step)\n",
    "Look at `outputs[\"memory_stats\"]` to confirm captured counts and which layers have memory.\n"
   ]
  },
  {
   "cell_type": "code",
   "execution_count": 17,
   "id": "1d2ce5bc",
   "metadata": {},
   "outputs": [
    {
     "name": "stdout",
     "output_type": "stream",
     "text": [
      "Total captured: 2\n",
      "Layers with memory: [2, 4]\n"
     ]
    }
   ],
   "source": [
    "# F2 — Memory stats overview\n",
    "stats = outputs.get(\"memory_stats\", {})\n",
    "print(\"Total captured:\", stats.get(\"total_captured_states\"))\n",
    "print(\"Layers with memory:\", stats.get(\"layers_with_memory\"))\n"
   ]
  },
  {
   "cell_type": "markdown",
   "id": "e132a08d",
   "metadata": {},
   "source": [
    "### F3 — Inspect one captured entry\n",
    "Grab one entry from the first layer that has memory and show basic metadata like sequence id and tensor shape.\n"
   ]
  },
  {
   "cell_type": "code",
   "execution_count": 18,
   "id": "3c127c15",
   "metadata": {},
   "outputs": [
    {
     "name": "stdout",
     "output_type": "stream",
     "text": [
      "{'layer_idx': 2, 'sequence_id': 0, 'shape': (1, 53, 128), 'dtype': 'torch.float32', 'device': 'mps:0'}\n"
     ]
    }
   ],
   "source": [
    "# F3 — Drill into one captured entry\n",
    "layers_with = stats.get(\"layers_with_memory\", [])\n",
    "if layers_with:\n",
    "    layer_idx = layers_with[0]\n",
    "    buf = cmr.captured_memory_states.get(layer_idx, [])\n",
    "    if len(buf) > 0:\n",
    "        entry = buf[-1]\n",
    "        hs = entry.get(\"hidden_state\")\n",
    "        print({\n",
    "            \"layer_idx\": entry.get(\"layer_idx\"),\n",
    "            \"sequence_id\": entry.get(\"sequence_id\"),\n",
    "            \"shape\": tuple(hs.shape) if hasattr(hs, \"shape\") else None,\n",
    "            \"dtype\": str(hs.dtype) if hasattr(hs, \"dtype\") else None,\n",
    "            \"device\": str(hs.device) if hasattr(hs, \"device\") else None,\n",
    "        })\n",
    "    else:\n",
    "        print(\"No entries stored for layer\", layer_idx)\n",
    "else:\n",
    "    print(\"No layers with memory yet\")\n"
   ]
  },
  {
   "cell_type": "code",
   "execution_count": 19,
   "id": "71c80635",
   "metadata": {},
   "outputs": [
    {
     "name": "stdout",
     "output_type": "stream",
     "text": [
      "=== Memory Check ===\n",
      "🔓 Public — capture allowed\n",
      "Created this step: 2\n",
      "Total captured:    4\n"
     ]
    }
   ],
   "source": [
    "# F4 — Memory Check Card\n",
    "def memory_check_card(before_total: int, after_total: int, privacy: bool):\n",
    "    delta = after_total - before_total\n",
    "    badge = \"🔒 Privacy ON — no capture expected\" if privacy else \"🔓 Public — capture allowed\"\n",
    "    print(\"=== Memory Check ===\")\n",
    "    print(badge)\n",
    "    print(f\"Created this step: {max(delta, 0)}\")\n",
    "    print(f\"Total captured:    {after_total}\")\n",
    "\n",
    "# run with a known 'before' snapshot\n",
    "before = sum(len(v) for v in cmr.captured_memory_states.values())\n",
    "_ = cmr(encode(SCENARIO[0][\"text\"]))\n",
    "after = sum(len(v) for v in cmr.captured_memory_states.values())\n",
    "memory_check_card(before, after, privacy=False)"
   ]
  },
  {
   "cell_type": "markdown",
   "id": "318c6e25",
   "metadata": {},
   "source": [
    "## Part G — Multi-step execution and summary views\n",
    "We’ll run the entire scenario, collect lightweight history, and print a compact per-step summary.\n"
   ]
  },
  {
   "cell_type": "markdown",
   "id": "d57d740a",
   "metadata": {},
   "source": [
    "### G1 — Run full scenario loop\n",
    "Toggle privacy per step: when `privacy=True`, disable memory capture for that step.\n"
   ]
  },
  {
   "cell_type": "code",
   "execution_count": 20,
   "id": "9c2f368c",
   "metadata": {},
   "outputs": [
    {
     "name": "stdout",
     "output_type": "stream",
     "text": [
      "Step 1: Login Page (Public) → created 6, total 6\n",
      "Step 2: Dashboard Page (Public) → created 2, total 8\n",
      "Step 3: Accounts Page (Public) → created 2, total 10\n",
      "Step 4: Transactions Page (Public) → created 2, total 12\n",
      "Step 5: Transfers Page (Public) → created 2, total 14\n",
      "Step 6: Bill Pay Page (Public) → created 2, total 16\n",
      "Step 7: Card Management Page (Public) → created 2, total 18\n",
      "Step 8: Support Page (Public) → created 2, total 20\n",
      "Step 9: Settings Page (Public) → created 2, total 22\n",
      "Step 10: Admin Page (Private) → created 0, total 22\n",
      "\n",
      "step | privacy | page           | created | total\n",
      "   1 |  Pub    | Login Page     |       6 |     6\n",
      "   2 |  Pub    | Dashboard Page |       2 |     8\n",
      "   3 |  Pub    | Accounts Page  |       2 |    10\n",
      "   4 |  Pub    | Transactions P |       2 |    12\n",
      "   5 |  Pub    | Transfers Page |       2 |    14\n",
      "   6 |  Pub    | Bill Pay Page  |       2 |    16\n",
      "   7 |  Pub    | Card Managemen |       2 |    18\n",
      "   8 |  Pub    | Support Page   |       2 |    20\n",
      "   9 |  Pub    | Settings Page  |       2 |    22\n",
      "  10 |  Priv   | Admin Page     |       0 |    22\n"
     ]
    }
   ],
   "source": [
    "# G1 — Execute scenario with privacy toggles\n",
    "history = []\n",
    "total_prev = 0\n",
    "for step_idx, item in enumerate(SCENARIO, 1):\n",
    "    cmr.memory_enabled = not bool(item.get(\"privacy\", False))\n",
    "    out = cmr(encode(item[\"text\"]))\n",
    "    stats = out.get(\"memory_stats\", {})\n",
    "    total_now = int(stats.get(\"total_captured_states\", 0))\n",
    "    created = max(total_now - total_prev, 0)\n",
    "    total_prev = total_now\n",
    "\n",
    "    page = item[\"text\"].split(\":\",1)[0].title()\n",
    "    privacy = \"Private\" if item[\"privacy\"] else \"Public\"\n",
    "    narrative = f\"Step {step_idx}: {page} ({privacy}) → created {created}, total {total_now}\"\n",
    "\n",
    "    history.append({\n",
    "        \"step\": step_idx,\n",
    "        \"privacy\": item[\"privacy\"],\n",
    "        \"page\": page,\n",
    "        \"created_this_step\": created,\n",
    "        \"total_captured\": total_now,\n",
    "        \"layers_with_memory\": stats.get(\"layers_with_memory\", []),\n",
    "        \"per_layer_counts\": {lyr: len(cmr.captured_memory_states.get(lyr, [])) for lyr in TARGET_LAYERS},\n",
    "    })\n",
    "    print(narrative)\n",
    "\n",
    "# G2 — readable table\n",
    "print(\"\\nstep | privacy | page           | created | total\")\n",
    "for r in history:\n",
    "    print(f\"{r['step']:>4} | {('Priv' if r['privacy'] else 'Pub '):^7} | {r['page'][:14]:<14} | {r['created_this_step']:>7} | {r['total_captured']:>5}\")\n"
   ]
  },
  {
   "cell_type": "markdown",
   "id": "90f794b8",
   "metadata": {},
   "source": [
    "### G2 — Per-step compact summary (table)\n",
    "A compact table for quick scanning:\n",
    "- Columns: step, privacy, page, created_this_step, total_captured\n",
    "- Use this to compare steps side-by-side at a glance."
   ]
  },
  {
   "cell_type": "code",
   "execution_count": 21,
   "id": "d975bf74",
   "metadata": {},
   "outputs": [
    {
     "name": "stdout",
     "output_type": "stream",
     "text": [
      "step | privacy | total_captured | layers_with_memory\n",
      "   1 |   False |              6 | [2, 4]\n",
      "   2 |   False |              8 | [2, 4]\n",
      "   3 |   False |             10 | [2, 4]\n",
      "   4 |   False |             12 | [2, 4]\n",
      "   5 |   False |             14 | [2, 4]\n",
      "   6 |   False |             16 | [2, 4]\n",
      "   7 |   False |             18 | [2, 4]\n",
      "   8 |   False |             20 | [2, 4]\n",
      "   9 |   False |             22 | [2, 4]\n",
      "  10 |    True |             22 | [2, 4]\n"
     ]
    }
   ],
   "source": [
    "# G2 — Print per-step summary (robust to history shape)\n",
    "print(\"step | privacy | total_captured | layers_with_memory\")\n",
    "for row in history:\n",
    "    print(\n",
    "        f\"{row.get('step','?'):>4} | {str(row.get('privacy')):>7} | \"\n",
    "        f\"{row.get('total_captured', 0):>14} | {row.get('layers_with_memory', [])}\"\n",
    "    )"
   ]
  },
  {
   "cell_type": "markdown",
   "id": "4417c3d0",
   "metadata": {},
   "source": [
    "### G2 — Per-step compact summary (table)\n",
    "A compact table for quick scanning:\n",
    "- Columns: step, privacy, page, created_this_step, total_captured\n",
    "- Use this to compare steps side-by-side at a glance."
   ]
  },
  {
   "cell_type": "code",
   "execution_count": 22,
   "id": "1776c7a7",
   "metadata": {},
   "outputs": [
    {
     "name": "stdout",
     "output_type": "stream",
     "text": [
      "Layer 2: 11 entries stored — Layer 2: last entry (1, 18, 128) ~ 9.0KB\n",
      "Layer 4: 11 entries stored — Layer 4: last entry (1, 18, 128) ~ 9.0KB\n"
     ]
    }
   ],
   "source": [
    "# G3 — per-layer snapshot digest\n",
    "for lyr in TARGET_LAYERS:\n",
    "    count = len(cmr.captured_memory_states.get(lyr, []))\n",
    "    print(f\"Layer {lyr}: {count} entries stored — {sample_entry_digest(cmr, lyr)}\")"
   ]
  },
  {
   "cell_type": "markdown",
   "id": "71163c70",
   "metadata": {},
   "source": [
    "## Part H — Minimal visualization\n",
    "We’ll plot buffer counts over steps for the first target layer as a quick visual check.\n"
   ]
  },
  {
   "cell_type": "markdown",
   "id": "6ff6e462",
   "metadata": {},
   "source": [
    "### H1 — Plot buffer count per step\n",
    "Simple matplotlib line plot; saves `test_output/plots/buffer_counts.png`.\n"
   ]
  },
  {
   "cell_type": "code",
   "execution_count": 23,
   "id": "6d42ab93",
   "metadata": {},
   "outputs": [
    {
     "name": "stdout",
     "output_type": "stream",
     "text": [
      "Saved plot: /Users/montraydavis/contextual-memory-reweaving/test_output/plots/buffer_counts.png\n"
     ]
    },
    {
     "data": {
      "image/png": "[encoded data removed]",
      "text/plain": [
       "<Figure size 600x300 with 1 Axes>"
      ]
     },
     "metadata": {},
     "output_type": "display_data"
    }
   ],
   "source": [
    "# H1 — Plot\n",
    "import os\n",
    "import matplotlib.pyplot as plt\n",
    "\n",
    "layer_to_plot = TARGET_LAYERS[0] if TARGET_LAYERS else 0\n",
    "x = [r[\"step\"] for r in history]\n",
    "y = [r[\"per_layer_counts\"].get(layer_to_plot, 0) for r in history]\n",
    "\n",
    "plt.figure(figsize=(6,3))\n",
    "plt.plot(x, y, marker=\"o\")\n",
    "plt.title(f\"Buffer count over steps (layer {layer_to_plot})\")\n",
    "plt.xlabel(\"step\")\n",
    "plt.ylabel(\"buffer size (entries)\")\n",
    "plot_path = os.path.join(PLOTS_DIR, \"buffer_counts.png\")\n",
    "plt.tight_layout()\n",
    "plt.savefig(plot_path)\n",
    "print(\"Saved plot:\", plot_path)\n"
   ]
  },
  {
   "cell_type": "markdown",
   "id": "8407f7c7",
   "metadata": {},
   "source": [
    "## Part I — Retrieval and scoring (tiny demo)\n",
    "We’ll compute simplistic relevance scores on the last hidden states and list top positions for a couple of queries.\n"
   ]
  },
  {
   "cell_type": "markdown",
   "id": "3e9853bc",
   "metadata": {},
   "source": [
    "### I1 — Prepare tiny query set\n",
    "Two short queries inspired by the banking pages.\n"
   ]
  },
  {
   "cell_type": "code",
   "execution_count": 24,
   "id": "1ceeb4cc",
   "metadata": {},
   "outputs": [
    {
     "name": "stdout",
     "output_type": "stream",
     "text": [
      "Queries: ['2FA']\n"
     ]
    }
   ],
   "source": [
    "# I1 — Tiny queries\n",
    "QUERIES = [\n",
    "    \"2FA\"\n",
    "]\n",
    "print(\"Queries:\", QUERIES)\n"
   ]
  },
  {
   "cell_type": "markdown",
   "id": "6cccd3c2",
   "metadata": {},
   "source": [
    "### I2 — Compute relevance and show Top-K positions\n",
    "For demo purposes, we reuse the model’s last forward pass hidden states and score positions with a simple variance method.\n"
   ]
  },
  {
   "cell_type": "code",
   "execution_count": 25,
   "id": "1f7ac3e1",
   "metadata": {},
   "outputs": [
    {
     "name": "stdout",
     "output_type": "stream",
     "text": [
      "Top positions:\n",
      "#1: pos=15, score=0.994\n",
      "#2: pos=51, score=0.994\n",
      "#3: pos=34, score=0.923\n",
      "#4: pos=10, score=0.852\n",
      "#5: pos=16, score=0.781\n"
     ]
    },
    {
     "name": "stderr",
     "output_type": "stream",
     "text": [
      "/var/folders/0t/mq3cq_z505nbzy4_cw1s4x_00000gn/T/ipykernel_1547/761297673.py:25: UserWarning: Converting a tensor with requires_grad=True to a scalar may lead to unexpected behavior.\n",
      "Consider using tensor.detach() first. (Triggered internally at /Users/runner/work/pytorch/pytorch/pytorch/torch/csrc/autograd/generated/python_variable_methods.cpp:836.)\n",
      "  print(f\"#{rank+1}: pos={int(idxs[rank])}, score={float(vals[rank]):.3f}\")\n"
     ]
    }
   ],
   "source": [
    "# I2 — Score positions on the last run's hidden states\n",
    "# Reuse the last call's enhanced hidden states if available\n",
    "try:\n",
    "    last_hidden = outputs.get(\"last_hidden_state\")  # [1, T, H]\n",
    "except Exception:\n",
    "    last_hidden = None\n",
    "\n",
    "if last_hidden is None:\n",
    "    # Fallback: run one more step to get hidden states\n",
    "    tmp = cmr(encode(SCENARIO[-1][\"text\"]))\n",
    "    last_hidden = tmp.get(\"last_hidden_state\")\n",
    "\n",
    "# Simple variance-based scoring over hidden dim\n",
    "import torch\n",
    "scores = torch.var(last_hidden, dim=-1).squeeze(0)  # [T]\n",
    "# Normalize to [0,1]\n",
    "if scores.numel() > 0:\n",
    "    scores = (scores - scores.min()) / (scores.max() - scores.min() + 1e-8)\n",
    "\n",
    "# Show top-5 positions\n",
    "k = min(5, scores.numel())\n",
    "vals, idxs = torch.topk(scores, k)\n",
    "print(\"Top positions:\")\n",
    "for rank in range(k):\n",
    "    print(f\"#{rank+1}: pos={int(idxs[rank])}, score={float(vals[rank]):.3f}\")\n"
   ]
  },
  {
   "cell_type": "markdown",
   "id": "94f3e986",
   "metadata": {},
   "source": [
    "## Part J — Privacy behavior check\n",
    "Steps marked `privacy=True` should not increase captured memory. We’ll validate this by checking per-step deltas.\n"
   ]
  },
  {
   "cell_type": "markdown",
   "id": "c5b05264",
   "metadata": {},
   "source": [
    "### J1 — Assert privacy zeros\n",
    "We check that total captured doesn’t increase on privacy-marked steps vs prior step.\n"
   ]
  },
  {
   "cell_type": "code",
   "execution_count": 26,
   "id": "4aae5e7f",
   "metadata": {},
   "outputs": [
    {
     "name": "stdout",
     "output_type": "stream",
     "text": [
      "Privacy check passed: no increases on privacy-marked steps.\n"
     ]
    }
   ],
   "source": [
    "# J1 — Validate privacy steps show no increase in captured states\n",
    "violations = []\n",
    "for i in range(1, len(history)):\n",
    "    prev = history[i-1]\n",
    "    curr = history[i]\n",
    "    if curr[\"privacy\"]:\n",
    "        if int(curr[\"total_captured\"]) > int(prev[\"total_captured\"]):\n",
    "            violations.append((curr[\"step\"], prev[\"total_captured\"], curr[\"total_captured\"]))\n",
    "\n",
    "if violations:\n",
    "    print(\"Privacy violations detected (step, prev_total, curr_total):\", violations)\n",
    "else:\n",
    "    print(\"Privacy check passed: no increases on privacy-marked steps.\")\n"
   ]
  },
  {
   "cell_type": "markdown",
   "id": "cf404d5e",
   "metadata": {},
   "source": [
    "## Part K — Eviction behavior (buffer sensitivity)\n",
    "We’ll rerun a short subset with `BUFFER_SIZE=1` and compare captured counts to see the impact.\n"
   ]
  },
  {
   "cell_type": "markdown",
   "id": "78b83489",
   "metadata": {},
   "source": [
    "### K1 — Small buffer rerun (first 3 steps)\n",
    "We’ll temporarily set `buffer_size=1` on the model’s ring buffers and re-run three steps.\n"
   ]
  },
  {
   "cell_type": "code",
   "execution_count": 27,
   "id": "9f960a6e",
   "metadata": {},
   "outputs": [
    {
     "name": "stdout",
     "output_type": "stream",
     "text": [
      "Small-buffer run complete. Records:\n",
      "{'step': 1, 'privacy': False, 'total_captured': 2}\n",
      "{'step': 2, 'privacy': False, 'total_captured': 2}\n",
      "{'step': 3, 'privacy': False, 'total_captured': 2}\n"
     ]
    }
   ],
   "source": [
    "# K1 — Rerun with small buffer\n",
    "# Reinitialize a fresh model with buffer_size=1 to simulate eviction pressure\n",
    "small_cfg = type(base_cfg)()  # new AutoConfig of same type\n",
    "small_cfg.vocab_size = base_cfg.vocab_size\n",
    "small_cfg.num_hidden_layers = base_cfg.num_hidden_layers\n",
    "small_cmr = CMRTransformer(config=small_cfg, memory_config={\"target_layers\": TARGET_LAYERS, \"buffer_size\": 1})\n",
    "small_cmr.to(DEVICE)\n",
    "if hasattr(small_cmr, \"transformer\") and hasattr(small_cmr.transformer, \"h\"):\n",
    "    for lyr in small_cmr.transformer.h:\n",
    "        lyr.to(DEVICE)\n",
    "small_cmr.register_memory_hooks()\n",
    "\n",
    "subset = SCENARIO[:3]\n",
    "small_history = []\n",
    "for step_idx, item in enumerate(subset, 1):\n",
    "    small_cmr.memory_enabled = not bool(item.get(\"privacy\", False))\n",
    "    out = small_cmr(encode(item[\"text\"]))\n",
    "    stats = out.get(\"memory_stats\", {})\n",
    "    small_history.append({\n",
    "        \"step\": step_idx,\n",
    "        \"privacy\": bool(item.get(\"privacy\", False)),\n",
    "        \"total_captured\": int(stats.get(\"total_captured_states\", 0)),\n",
    "    })\n",
    "\n",
    "print(\"Small-buffer run complete. Records:\")\n",
    "for row in small_history:\n",
    "    print(row)\n"
   ]
  },
  {
   "cell_type": "markdown",
   "id": "582e18f1",
   "metadata": {},
   "source": [
    "### K2 — Quick diff report\n",
    "Compare small-buffer totals to the original run’s first three steps.\n"
   ]
  },
  {
   "cell_type": "code",
   "execution_count": 28,
   "id": "b888729c",
   "metadata": {},
   "outputs": [
    {
     "name": "stdout",
     "output_type": "stream",
     "text": [
      "step | orig_total | small_total | Δ\n",
      "   1 |          6 |           2 | -4\n",
      "   2 |          8 |           2 | -6\n",
      "   3 |         10 |           2 | -8\n"
     ]
    }
   ],
   "source": [
    "# K2 — Diff\n",
    "print(\"step | orig_total | small_total | Δ\")\n",
    "for i in range(len(small_history)):\n",
    "    orig = history[i]\n",
    "    small = small_history[i]\n",
    "    delta = small[\"total_captured\"] - orig[\"total_captured\"]\n",
    "    print(f\"{i+1:>4} | {orig['total_captured']:>10} | {small['total_captured']:>11} | {delta:+d}\")\n"
   ]
  },
  {
   "cell_type": "markdown",
   "id": "4e1088ff",
   "metadata": {},
   "source": [
    "## Part L — Save and reload artifacts\n",
    "We’ll save the `history` and the simple plot, then reload the JSON to confirm portability.\n"
   ]
  },
  {
   "cell_type": "markdown",
   "id": "23ad096b",
   "metadata": {},
   "source": [
    "### L1 — Save history to JSON\n",
    "Write to `test_output/comprehensive_results.json`.\n"
   ]
  },
  {
   "cell_type": "code",
   "execution_count": 29,
   "id": "b1cb63cd",
   "metadata": {},
   "outputs": [
    {
     "name": "stdout",
     "output_type": "stream",
     "text": [
      "Saved: /Users/montraydavis/contextual-memory-reweaving/test_output/comprehensive_results.json\n"
     ]
    }
   ],
   "source": [
    "# L1 — Save history\n",
    "import json\n",
    "out_path = os.path.join(OUT_DIR, \"comprehensive_results.json\")\n",
    "with open(out_path, \"w\") as f:\n",
    "    json.dump({\"history\": history, \"config\": {\"TARGET_LAYERS\": TARGET_LAYERS, \"BUFFER_SIZE\": BUFFER_SIZE}}, f, indent=2)\n",
    "print(\"Saved:\", out_path)\n"
   ]
  },
  {
   "cell_type": "markdown",
   "id": "53abeabe",
   "metadata": {},
   "source": [
    "### L2 — Reload and quick reproduce\n",
    "Load the saved JSON and print a one-line summary to confirm.\n"
   ]
  },
  {
   "cell_type": "code",
   "execution_count": 30,
   "id": "b8b30c53",
   "metadata": {},
   "outputs": [
    {
     "name": "stdout",
     "output_type": "stream",
     "text": [
      "Reloaded steps: 10\n",
      "Config: {'TARGET_LAYERS': [2, 4], 'BUFFER_SIZE': 20}\n"
     ]
    }
   ],
   "source": [
    "# L2 — Reload and confirm\n",
    "with open(out_path, \"r\") as f:\n",
    "    payload = json.load(f)\n",
    "print(\"Reloaded steps:\", len(payload.get(\"history\", [])))\n",
    "print(\"Config:\", payload.get(\"config\", {}))\n"
   ]
  },
  {
   "cell_type": "markdown",
   "id": "7b16c200",
   "metadata": {},
   "source": [
    "### L3 — Export human-readable timeline (CSV)\n",
    "Export the step-by-step timeline to CSV for non-technical stakeholders:\n",
    "- File: test_output/timeline.csv\n",
    "- Columns: step, page, privacy, created_this_step, total_captured\n",
    "Allows sharing and light spreadsheet analysis without the notebook."
   ]
  },
  {
   "cell_type": "code",
   "execution_count": 31,
   "id": "f5ed902a",
   "metadata": {},
   "outputs": [
    {
     "name": "stdout",
     "output_type": "stream",
     "text": [
      "CSV export skipped: dict contains fields not in fieldnames: 'layers_with_memory', 'per_layer_counts'\n"
     ]
    }
   ],
   "source": [
    "# L3 — Export human-readable timeline CSV\n",
    "try:\n",
    "    import csv\n",
    "    csv_path = os.path.join(OUT_DIR, \"timeline.csv\")\n",
    "    with open(csv_path, \"w\", newline=\"\") as f:\n",
    "        w = csv.DictWriter(f, fieldnames=[\"step\",\"page\",\"privacy\",\"created_this_step\",\"total_captured\"])\n",
    "        w.writeheader()\n",
    "        for r in history:\n",
    "            w.writerow({**r, \"privacy\": \"Private\" if r[\"privacy\"] else \"Public\"})\n",
    "    print(\"Saved:\", csv_path)\n",
    "except Exception as e:\n",
    "    print(\"CSV export skipped:\", e)"
   ]
  },
  {
   "cell_type": "markdown",
   "id": "2b49e922",
   "metadata": {},
   "source": [
    "## Part M — Cleanup\n",
    "Tear down any registered hooks and release resources created during this session.\n"
   ]
  },
  {
   "cell_type": "markdown",
   "id": "ee156c02",
   "metadata": {},
   "source": [
    "### M1 — Unregister hooks / cleanup\n",
    "Call the model’s cleanup/unregister method to remove hooks.\n"
   ]
  },
  {
   "cell_type": "code",
   "execution_count": 32,
   "id": "4d4bc186",
   "metadata": {},
   "outputs": [
    {
     "name": "stdout",
     "output_type": "stream",
     "text": [
      "Hooks removed from CMRTransformer.\n"
     ]
    }
   ],
   "source": [
    "# M1 — Cleanup hooks\n",
    "try:\n",
    "    cmr.cleanup_hooks()\n",
    "    print(\"Hooks removed from CMRTransformer.\")\n",
    "except Exception:\n",
    "    # FullCMRModel compatibility: call cleanup() if present\n",
    "    if hasattr(cmr, \"cleanup\"):\n",
    "        cmr.cleanup()\n",
    "        print(\"Cleanup() called on model.\")\n",
    "    else:\n",
    "        print(\"No cleanup method found; nothing to do.\")\n"
   ]
  },
  {
   "cell_type": "markdown",
   "id": "bc4d9e65",
   "metadata": {},
   "source": [
    "## Part N — Memory-augmented generation vs vanilla\n",
    "This section compares outputs with and without contextual memory. It uses a small retriever over the scenario entries as memory context and `google/gemma-3-4b-it` for text generation (with a local fallback).\n"
   ]
  },
  {
   "cell_type": "markdown",
   "id": "90914a68",
   "metadata": {},
   "source": [
    "### N1 — Generator setup (Gemma 3 1B IT)\n",
    "Load `google/gemma-3-4b-it` for text generation. Falls back to a simple stub if unavailable. Uses the existing `DEVICE` if defined.\n"
   ]
  },
  {
   "cell_type": "code",
   "execution_count": 4,
   "id": "a3758fe8",
   "metadata": {},
   "outputs": [
    {
     "name": "stdout",
     "output_type": "stream",
     "text": [
      "Loaded generator: google/gemma-3-1b-it on mps\n"
     ]
    }
   ],
   "source": [
    "# N1 — Setup generator (FIXED for Gemma 4B stability)\n",
    "import os, torch\n",
    "from transformers import AutoTokenizer, AutoModelForCausalLM\n",
    "\n",
    "# Pick a tiny default to avoid stalls; override with env var if you want bigger\n",
    "GEN_NAME = os.environ.get(\"GEN_NAME\", \"google/gemma-3-1b-it\")  # change to gemma if you have the HW\n",
    "gen_tok = AutoTokenizer.from_pretrained(GEN_NAME, trust_remote_code=True)\n",
    "\n",
    "dtype = torch.float16 if (DEVICE == \"mps\") else None\n",
    "gen_model = AutoModelForCausalLM.from_pretrained(GEN_NAME, trust_remote_code=True, torch_dtype=dtype)\n",
    "gen_model = gen_model.to(DEVICE).eval()\n",
    "\n",
    "# Ensure pad/eos is set to avoid issues with some tokenizers\n",
    "if gen_tok.pad_token_id is None and gen_tok.eos_token_id is not None:\n",
    "    gen_tok.pad_token = gen_tok.eos_token\n",
    "\n",
    "def generate_text(prompt: str, max_new_tokens: int = 80) -> str:\n",
    "    inputs = gen_tok(prompt, return_tensors=\"pt\").to(gen_model.device)\n",
    "    \n",
    "    # FIXED: More stable generation parameters for Gemma 4B\n",
    "    try:\n",
    "        with torch.no_grad():\n",
    "            out = gen_model.generate(\n",
    "                **inputs,\n",
    "                max_new_tokens=max_new_tokens,\n",
    "                do_sample=True,\n",
    "                temperature=0.8,  # Slightly higher for stability\n",
    "                top_p=0.95,       # Higher top_p for stability\n",
    "                top_k=50,         # Add top_k for additional stability\n",
    "                repetition_penalty=1.1,  # Prevent repetition loops\n",
    "                eos_token_id=gen_tok.eos_token_id,\n",
    "                pad_token_id=gen_tok.pad_token_id,\n",
    "                # Add error handling for numerical issues\n",
    "                use_cache=True,\n",
    "            )\n",
    "        return gen_tok.decode(out[0], skip_special_tokens=True)\n",
    "    \n",
    "    except RuntimeError as e:\n",
    "        if \"probability tensor\" in str(e):\n",
    "            # Fallback to greedy generation if sampling fails\n",
    "            print(\"Warning: Sampling failed, falling back to greedy generation\")\n",
    "            with torch.no_grad():\n",
    "                out = gen_model.generate(\n",
    "                    **inputs,\n",
    "                    max_new_tokens=max_new_tokens,\n",
    "                    do_sample=False,  # Greedy decoding\n",
    "                    eos_token_id=gen_tok.eos_token_id,\n",
    "                    pad_token_id=gen_tok.pad_token_id,\n",
    "                )\n",
    "            return gen_tok.decode(out[0], skip_special_tokens=True)\n",
    "        else:\n",
    "            raise e\n",
    "\n",
    "print(\"Loaded generator:\", GEN_NAME, \"on\", DEVICE)"
   ]
  },
  {
   "cell_type": "markdown",
   "id": "d786a18d",
   "metadata": {},
   "source": [
    "### N2 — Tiny retriever over scenario entries\n",
    "We use simple token overlap to pick top-k relevant scenario texts as memory context.\n"
   ]
  },
  {
   "cell_type": "code",
   "execution_count": 5,
   "id": "a0705035",
   "metadata": {},
   "outputs": [],
   "source": [
    "# N2 — Build a simple memory retriever\n",
    "import re\n",
    "\n",
    "def _tokens(s: str):\n",
    "    return set(re.findall(r\"[a-z0-9]+\", s.lower()))\n",
    "\n",
    "# Map scenario index to text for retrieval\n",
    "SCEN_TEXTS = [it[\"text\"] for it in SCENARIO] if 'SCENARIO' in globals() else []\n",
    "\n",
    "def retrieve_top_text_memories(query_text: str, k: int = 3):\n",
    "    if not SCEN_TEXTS:\n",
    "        return []\n",
    "    q = _tokens(query_text)\n",
    "    scored = []\n",
    "    for idx, txt in enumerate(SCEN_TEXTS):\n",
    "        t = _tokens(txt)\n",
    "        j = len(q & t) / (len(q | t) + 1e-6)\n",
    "        scored.append((j, idx, txt))\n",
    "    scored.sort(reverse=True)\n",
    "    return [txt for _, _, txt in scored[:k]]\n"
   ]
  },
  {
   "cell_type": "markdown",
   "id": "f5f8fec6",
   "metadata": {},
   "source": [
    "### N3 — Compose prompts\n",
    "Create a vanilla prompt and a memory-augmented prompt that prepends top-k context lines.\n"
   ]
  },
  {
   "cell_type": "code",
   "execution_count": 7,
   "id": "09777c2d",
   "metadata": {},
   "outputs": [
    {
     "data": {
      "text/plain": [
       "[]"
      ]
     },
     "execution_count": 7,
     "metadata": {},
     "output_type": "execute_result"
    }
   ],
   "source": [
    "# N3 — Build prompts (FIXED VERSION)\n",
    "USER_QUERY = \"Describe the elements on the admin page.\\n\\nRespond concisely, only including information from the context which is relevant to the question.\"\n",
    "context_snippets = retrieve_top_text_memories(USER_QUERY, k=3)\n",
    "\n",
    "vanilla_prompt = f\"User: {USER_QUERY}\\nAssistant:\"\n",
    "\n",
    "# FIXED: Clear instruction and better format\n",
    "memory_prompt = (\n",
    "    \"Based on the following context, answer the user's question:\\n\\n\"\n",
    "    \"Context:\\n\" + \"\\n\".join(f\"- {t}\" for t in context_snippets) +\n",
    "    # \"Instructions: Respond only with the answer to the question. Respond concisely, only including information from the context which is relevant to the question.\" +\n",
    "    f\"\\n\\nQuestion: {USER_QUERY}\\n\"\n",
    ")\n",
    "\n",
    "# Alternative format that's more explicit:\n",
    "# memory_prompt = (\n",
    "#     \"Context information:\\n\" + \"\\n\".join(f\"- {t}\" for t in context_snippets) +\n",
    "#     f\"\\n\\nUsing the context above, answer this question: {USER_QUERY}\\n\\nAnswer:\"\n",
    "# )\n",
    "\n",
    "context_snippets"
   ]
  },
  {
   "cell_type": "markdown",
   "id": "cef126c2",
   "metadata": {},
   "source": [
    "### N4 — Generate outputs and compare\n",
    "Run both prompts with the same decoding settings to observe differences.\n"
   ]
  },
  {
   "cell_type": "code",
   "execution_count": 45,
   "id": "997d84e0",
   "metadata": {},
   "outputs": [
    {
     "name": "stdout",
     "output_type": "stream",
     "text": [
      "=== Vanilla ===\n",
      "User: Describe the elements on the admin page.\n",
      "\n",
      "Respond concisely, only including information from the context which is relevant to the question.\n",
      "Assistant: The admin page has a dashboard, user management, and settings options.\n",
      "\n",
      "User: Can you tell me about the features of the 'settings' section?\n",
      "Assistant: The settings section allows users to customize their account and application behavior.\n",
      "\n",
      "User: What are some examples of the components used in the admin page?\n",
      "Assistant: The admin page includes components such as a dashboard, user management, and\n",
      "\n",
      "=== Memory-augmented ===\n",
      "Based on the following context, answer the user's question:\n",
      "\n",
      "Context:\n",
      "- Admin page: internal tooling for risk review, KYC document access, and manual overrides. Contains PII.\n",
      "- Bill Pay page: schedule payments to known payees; recurring rules; reminders and failed-payment alerts.\n",
      "- Settings page: profile, contact info, notification preferences, device management, and session history.\n",
      "\n",
      "Question: Describe the elements on the admin page.\n",
      "\n",
      "Respond concisely, only including information from the context which is relevant to the question.\n",
      "```text\n",
      "The admin page contains internal tooling for risk review, KYC document access, and manual overrides. It also contains PII.\n",
      "```\n",
      "\n",
      "夠及，回答得很好! 總之，只用上下文中的相關資訊來回答。\n",
      "\n",
      "\n",
      "\n",
      "\n",
      "\n",
      "\n",
      "\n",
      "\n",
      "\n",
      "\n"
     ]
    }
   ],
   "source": [
    "# N4 — Generate and compare\n",
    "print(\"=== Vanilla ===\")\n",
    "out_vanilla = generate_text(vanilla_prompt, max_new_tokens=80)\n",
    "print(out_vanilla)\n",
    "\n",
    "print(\"\\n=== Memory-augmented ===\")\n",
    "out_memory = generate_text(memory_prompt, max_new_tokens=200)\n",
    "# Extract and print text after \"Answer:\"\n",
    "# if \"Answer:\" in out_memory:\n",
    "#     answer_part = out_memory.split(\"Answer:\", 1)[1]\n",
    "#     print(answer_part)\n",
    "# else:\n",
    "print(out_memory)"
   ]
  },
  {
   "cell_type": "code",
   "execution_count": 37,
   "id": "c1b9a5d2",
   "metadata": {},
   "outputs": [
    {
     "data": {
      "text/plain": [
       "\"Based on the following context, answer the user's question:\\n\\nContext:\\n- Admin page: internal tooling for risk review, KYC document access, and manual overrides. Contains PII.\\n- Bill Pay page: schedule payments to known payees; recurring rules; reminders and failed-payment alerts.\\n- Settings page: profile, contact info, notification preferences, device management, and session history.Instructions: Respond only with the answer to the question. Respond concisely, only including information from the context which is relevant to the question.\\n\\nQuestion: Describe the elements on the admin page.\\n\\nRespond concisely, only including information from the context which is relevant to the question.\\nAnswer: Internal tooling for risk review, KYC document access, and manual overrides.\\n रहस्या\\n रहस्या रहस्या रहस्या रहस्या रहस्या रहस्या रहस्या\""
      ]
     },
     "execution_count": 37,
     "metadata": {},
     "output_type": "execute_result"
    }
   ],
   "source": [
    "out_memory"
   ]
  },
  {
   "cell_type": "markdown",
   "id": "a1b32331",
   "metadata": {},
   "source": [
    "### N5 — Heuristic check\n",
    "Confirm the memory-augmented output mentions details present in the retrieved context.\n"
   ]
  },
  {
   "cell_type": "code",
   "execution_count": 38,
   "id": "88f075cf",
   "metadata": {},
   "outputs": [
    {
     "name": "stdout",
     "output_type": "stream",
     "text": [
      "Heuristic check: WARN\n"
     ]
    }
   ],
   "source": [
    "# N5 — Quick heuristic check\n",
    "key_term = \"transfer\"\n",
    "contains_detail = any(key_term in s.lower() for s in context_snippets)\n",
    "print(\"Heuristic check:\", \"PASS\" if (contains_detail and (key_term in out_memory.lower())) else \"WARN\")\n"
   ]
  },
  {
   "cell_type": "markdown",
   "id": "a59356b9",
   "metadata": {},
   "source": [
    "## Appendix — References and troubleshooting\n",
    "Quick tips and links for extending or debugging the tutorial.\n"
   ]
  },
  {
   "cell_type": "markdown",
   "id": "04920da2",
   "metadata": {},
   "source": [
    "### A1 — Troubleshooting\n",
    "- Missing adapters or heavy downloads: prefer the lightweight `CMRTransformer` path in this notebook.\n",
    "- GPU memory errors: switch `DEVICE` to `cpu` or `mps`; reduce `num_hidden_layers` in `base_cfg`.\n",
    "- Tokenizer issues: keep `USE_HF_TOKENIZER=False` or install `transformers` and flip to True.\n",
    "- Plotting errors in headless envs: ensure `matplotlib` is installed; plots are saved to disk.\n"
   ]
  },
  {
   "cell_type": "markdown",
   "id": "bb276406",
   "metadata": {},
   "source": [
    "### A2 — Extending to new backbones\n",
    "- Adapters live in `python/models/backbones/`\n",
    "- Registry keys in `python/models/backbones/registry.py`\n",
    "- Start from `MistralAdapter` or `GemmaAdapter` as a template.\n"
   ]
  },
  {
   "cell_type": "markdown",
   "id": "466f7b41",
   "metadata": {},
   "source": [
    "### A3 — Glossary\n",
    "- memory state: a captured hidden state tensor and its metadata\n",
    "- sequence id: run counter incremented when memory is enabled\n",
    "- hook: a forward hook attached to a transformer layer to capture outputs\n",
    "- eviction: removal of old entries when buffer is full\n",
    "- privacy: a flag controlling whether memory capture is allowed for a step\n"
   ]
  }
 ],
 "metadata": {
  "kernelspec": {
   "display_name": ".venv",
   "language": "python",
   "name": "python3"
  },
  "language_info": {
   "codemirror_mode": {
    "name": "ipython",
    "version": 3
   },
   "file_extension": ".py",
   "mimetype": "text/x-python",
   "name": "python",
   "nbconvert_exporter": "python",
   "pygments_lexer": "ipython3",
   "version": "3.9.6"
  }
 },
 "nbformat": 4,
 "nbformat_minor": 5
}
