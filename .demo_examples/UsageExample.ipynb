{
 "cells": [
  {
   "cell_type": "markdown",
   "id": "96cb1377",
   "metadata": {},
   "source": [
    "### A1 — Add repo path and verify imports\n",
    "Append `../python` to `sys.path` so imports resolve to the repository’s `python/` package. Then attempt to import `models.base_transformer.CMRTransformer` to verify setup.\n"
   ]
  },
  {
   "cell_type": "code",
   "execution_count": 1,
   "id": "f137d6e4",
   "metadata": {},
   "outputs": [
    {
     "name": "stderr",
     "output_type": "stream",
     "text": [
      "/Users/montraydavis/contextual-memory-reweaving/.venv/lib/python3.9/site-packages/urllib3/__init__.py:35: NotOpenSSLWarning: urllib3 v2 only supports OpenSSL 1.1.1+, currently the 'ssl' module is compiled with 'LibreSSL 2.8.3'. See: https://github.com/urllib3/urllib3/issues/3020\n",
      "  warnings.warn(\n"
     ]
    },
    {
     "name": "stdout",
     "output_type": "stream",
     "text": [
      "CMRTransformer import: OK\n",
      "DEVICE: mps\n"
     ]
    }
   ],
   "source": [
    "# A2 — Add repo python path and verify core import\n",
    "import os, sys\n",
    "import torch\n",
    "from types import SimpleNamespace\n",
    "import pandas as pd\n",
    "import re\n",
    "\n",
    "REPO_PY_PATH = os.path.abspath(os.path.join(os.getcwd(), \"..\", \"python\"))\n",
    "if REPO_PY_PATH not in sys.path:\n",
    "    sys.path.append(REPO_PY_PATH)\n",
    "\n",
    "try:\n",
    "    from models.base_transformer import CMRTransformer  # noqa: F401\n",
    "    print(\"CMRTransformer import: OK\")\n",
    "except Exception as e:\n",
    "    print(\"CMRTransformer import: FAILED\", e)\n",
    "\n",
    "\n",
    "DEVICE = \"cpu\"\n",
    "if torch.cuda.is_available():\n",
    "    DEVICE = \"cuda\"\n",
    "elif getattr(torch.backends, \"mps\", None) and torch.backends.mps.is_available():\n",
    "    DEVICE = \"mps\"\n",
    "print(\"DEVICE:\", DEVICE)\n",
    "\n",
    "REPO_PY_PATH = os.path.abspath(os.path.join(os.getcwd(), \"..\", \"python\"))"
   ]
  },
  {
   "cell_type": "markdown",
   "id": "32bb7cd8",
   "metadata": {},
   "source": [
    "## Config"
   ]
  },
  {
   "cell_type": "code",
   "execution_count": 2,
   "id": "20cde64f",
   "metadata": {},
   "outputs": [
    {
     "name": "stdout",
     "output_type": "stream",
     "text": [
      "{'TARGET_LAYERS': [2, 4], 'BUFFER_SIZE': 20}\n"
     ]
    }
   ],
   "source": [
    "ADAPTER_NAME = \"gemma\"\n",
    "MODEL_NAME = \"google/gemma-3-4b-it\"\n",
    "\n",
    "TARGET_LAYERS = [2, 4]\n",
    "BUFFER_SIZE = 20\n",
    "\n",
    "# Build a tiny tokenizer and optional HF tokenizer\n",
    "USE_HF_TOKENIZER = True  # flip to True to use HuggingFace tokenizer when available\n",
    "\n",
    "# Optional HF tokenizer\n",
    "hf_tokenizer = None\n",
    "\n",
    "# Tiny tokenizer: whitespace split with a growing vocab\n",
    "toy_vocab = {\"<pad>\": 0, \"<unk>\": 1}\n",
    "\n",
    "# Minimal validation\n",
    "if not TARGET_LAYERS:\n",
    "    raise ValueError(\"At least one target layer is required\")\n",
    "if BUFFER_SIZE < 1:\n",
    "    raise ValueError(\"BUFFER_SIZE must be >= 1\")\n",
    "\n",
    "print({\"TARGET_LAYERS\": TARGET_LAYERS, \"BUFFER_SIZE\": BUFFER_SIZE})"
   ]
  },
  {
   "cell_type": "markdown",
   "id": "60597f3d",
   "metadata": {},
   "source": [
    "## Dataset"
   ]
  },
  {
   "cell_type": "code",
   "execution_count": 14,
   "id": "dd4ca939",
   "metadata": {},
   "outputs": [],
   "source": [
    "SCENARIO = [\n",
    "  {\"text\": \"Home page: company overview, featured products, testimonials, and call-to-action buttons for sign-up.\", \"privacy\": False},\n",
    "  {\"text\": \"About page: company history, mission statement, team bios, and office locations with contact details.\", \"privacy\": False},\n",
    "  {\"text\": \"Products page: catalog of available services with pricing tiers, feature comparisons, and demo videos.\", \"privacy\": False},\n",
    "  {\"text\": \"Contact page: contact form, phone numbers, email addresses, live chat widget, and business hours.\", \"privacy\": False},\n",
    "  {\"text\": \"Blog page: articles, tutorials, industry news, and SEO-optimized content with comment sections.\", \"privacy\": False},\n",
    "  {\"text\": \"Pricing page: subscription plans, feature matrix, annual vs monthly billing, and enterprise quotes.\", \"privacy\": False},\n",
    "  {\"text\": \"FAQ page: common questions organized by category with search functionality and helpful resources.\", \"privacy\": False},\n",
    "  {\"text\": \"Terms of Service page: legal agreements, user responsibilities, limitation of liability, and dispute resolution.\", \"privacy\": False},\n",
    "  {\"text\": \"Privacy Policy page: data collection practices, cookie usage, third-party integrations, and user rights.\", \"privacy\": False},\n",
    "  {\"text\": \"Careers page: open positions, company culture, benefits overview, and application submission portal.\", \"privacy\": False},\n",
    "  {\"text\": \"Login page: user authentication with email/password, social login options, and forgot password recovery.\", \"privacy\": False},\n",
    "  {\"text\": \"Register page: new user sign-up form with email verification, terms acceptance, and account activation.\", \"privacy\": False},\n",
    "  {\"text\": \"User Dashboard: personalized homepage showing account status, recent activity, and quick action buttons.\", \"privacy\": False},\n",
    "  {\"text\": \"Profile Settings: user information management, password changes, notification preferences, and account deletion.\", \"privacy\": False},\n",
    "  {\"text\": \"Billing page: payment methods, invoice history, subscription management, and upgrade/downgrade options.\", \"privacy\": False},\n",
    "  {\"text\": \"Order History: past purchases, order tracking, return requests, and downloadable receipts.\", \"privacy\": False},\n",
    "  {\"text\": \"Shopping Cart: selected items, quantity adjustments, coupon codes, and checkout initiation.\", \"privacy\": False},\n",
    "  {\"text\": \"Checkout page: shipping information, payment processing, order review, and purchase confirmation.\", \"privacy\": False},\n",
    "  {\"text\": \"Search Results: product/content listings with filters, sorting options, and pagination controls.\", \"privacy\": False},\n",
    "  {\"text\": \"Help Center: knowledge base articles, video tutorials, troubleshooting guides, and ticket submission.\", \"privacy\": False},\n",
    "  {\"text\": \"API Documentation: endpoint references, authentication methods, code examples, and rate limiting info.\", \"privacy\": False},\n",
    "  {\"text\": \"Downloads page: software installers, user manuals, templates, and resource files with version history.\", \"privacy\": False},\n",
    "  {\"text\": \"News page: press releases, company announcements, media coverage, and investor relations updates.\", \"privacy\": False},\n",
    "  {\"text\": \"Events page: upcoming webinars, conferences, product launches, and registration forms.\", \"privacy\": False},\n",
    "  {\"text\": \"Partners page: integration listings, affiliate program details, and partner application process.\", \"privacy\": False},\n",
    "  {\"text\": \"Sitemap page: hierarchical website structure with all public pages listed and organized by category.\", \"privacy\": False},\n",
    "  {\"text\": \"404 Error page: custom not found message with navigation suggestions and search functionality.\", \"privacy\": False},\n",
    "  {\"text\": \"Maintenance page: scheduled downtime notification with estimated completion time and status updates.\", \"privacy\": False},\n",
    "  {\"text\": \"Security page: data protection measures, compliance certifications, and security best practices.\", \"privacy\": False},\n",
    "  {\"text\": \"Mobile App page: download links for iOS/Android, feature highlights, and screenshot gallery.\", \"privacy\": False},\n",
    "  {\"text\": \"Integrations page: third-party service connections, setup instructions, and compatibility matrix.\", \"privacy\": False},\n",
    "  {\"text\": \"Admin Dashboard: system overview, user management controls, analytics data, and configuration settings. Contains administrative functions.\", \"privacy\": True},\n",
    "  {\"text\": \"User Management: admin interface for viewing user accounts, permissions, suspension controls, and personal data. Contains PII.\", \"privacy\": True},\n",
    "  {\"text\": \"Analytics Panel: detailed usage statistics, user behavior tracking, conversion metrics, and sensitive business data.\", \"privacy\": True},\n",
    "  {\"text\": \"Database Admin: direct database access, query execution, backup management, and sensitive system data.\", \"privacy\": True},\n",
    "  {\"text\": \"Financial Reports: revenue data, transaction details, tax information, and confidential business metrics.\", \"privacy\": True},\n",
    "  {\"text\": \"Employee Portal: staff directory, salary information, performance reviews, and internal communications. Contains PII.\", \"privacy\": True},\n",
    "  {\"text\": \"System Logs: server logs, error tracking, security events, and debugging information with user data.\", \"privacy\": True},\n",
    "  {\"text\": \"Configuration Manager: system settings, API keys, database credentials, and infrastructure management.\", \"privacy\": True},\n",
    "  {\"text\": \"Backup Interface: data recovery tools, backup scheduling, restore functions, and system maintenance access.\", \"privacy\": True},\n",
    "  {\"text\": \"Security Center: threat monitoring, access logs, vulnerability scans, and incident response tools.\", \"privacy\": True},\n",
    "  {\"text\": \"Payment Processing: transaction management, refund processing, merchant settings, and financial data access.\", \"privacy\": True},\n",
    "  {\"text\": \"Customer Support Admin: ticket management, user impersonation, chat monitoring, and PII access for support.\", \"privacy\": True},\n",
    "  {\"text\": \"Marketing Analytics: campaign performance, customer segments, A/B test results, and behavioral data.\", \"privacy\": True},\n",
    "  {\"text\": \"Content Management: CMS backend, publishing controls, media library, and editorial workflow management.\", \"privacy\": True},\n",
    "  {\"text\": \"API Management: endpoint monitoring, rate limiting controls, usage analytics, and developer key management.\", \"privacy\": True},\n",
    "  {\"text\": \"Audit Trail: compliance logging, user activity tracking, data access records, and regulatory reporting.\", \"privacy\": True},\n",
    "  {\"text\": \"HR Management: employee records, hiring pipeline, payroll data, and confidential personnel information. Contains PII.\", \"privacy\": True},\n",
    "  {\"text\": \"Legal Documents Manager: contracts, NDAs, compliance files, and confidential legal correspondence.\", \"privacy\": True},\n",
    "  {\"text\": \"Vendor Management: supplier contracts, payment processing, vendor onboarding, and procurement data.\", \"privacy\": True},\n",
    "  {\"text\": \"Executive Dashboard: board reports, strategic metrics, competitive analysis, and confidential business intelligence.\", \"privacy\": True},\n",
    "  {\"text\": \"Data Export Tool: bulk data extraction, customer information downloads, and sensitive data migration utilities. Contains PII.\", \"privacy\": True},\n",
    "  {\"text\": \"Email Campaign Manager: subscriber lists, email templates, delivery tracking, and customer communication data.\", \"privacy\": True},\n",
    "  {\"text\": \"Inventory Management: stock levels, supplier information, cost data, and warehouse operations interface.\", \"privacy\": True},\n",
    "  {\"text\": \"Customer Service Tools: case management, escalation procedures, customer history access, and support metrics.\", \"privacy\": True},\n",
    "  {\"text\": \"Quality Assurance: testing environments, bug tracking, performance monitoring, and development tools access.\", \"privacy\": True},\n",
    "  {\"text\": \"Compliance Dashboard: regulatory reporting, audit preparation, policy management, and risk assessment tools.\", \"privacy\": True}\n",
    "]\n",
    "\n",
    "STOPWORDS = [\n",
    "    \"0o\", \"0s\", \"3a\", \"3b\", \"3d\", \"6b\", \"6o\", \"a\", \"a1\", \"a2\", \"a3\", \"a4\", \"ab\", \"able\", \"about\", \"above\", \"abst\", \"ac\", \"accordance\", \"according\", \"accordingly\", \"across\", \"act\", \"actually\", \"ad\", \"added\", \"adj\", \"ae\", \"af\", \"affected\", \"affecting\", \"affects\", \"after\", \"afterwards\", \"ag\", \"again\", \"against\", \"ah\", \"ain\", \"ain't\", \"aj\", \"al\", \"all\", \"allow\", \"allows\", \"almost\", \"alone\", \"along\", \"already\", \"also\", \"although\", \"always\", \"am\", \"among\", \"amongst\", \"amoungst\", \"amount\", \"an\", \"and\", \"announce\", \"another\", \"any\", \"anybody\", \"anyhow\", \"anymore\", \"anyone\", \"anything\", \"anyway\", \"anyways\", \"anywhere\", \"ao\", \"ap\", \"apart\", \"apparently\", \"appear\", \"appreciate\", \"appropriate\", \"approximately\", \"ar\", \"are\", \"aren\", \"arent\", \"aren't\", \"arise\", \"around\", \"as\", \"a's\", \"aside\", \"ask\", \"asking\", \"associated\", \"at\", \"au\", \"auth\", \"av\", \"available\", \"aw\", \"away\", \"awfully\", \"ax\", \"ay\", \"az\", \"b\", \"b1\", \"b2\", \"b3\", \"ba\", \"back\", \"bc\", \"bd\", \"be\", \"became\", \"because\", \"become\", \"becomes\", \"becoming\", \"been\", \"before\", \"beforehand\", \"begin\", \"beginning\", \"beginnings\", \"begins\", \"behind\", \"being\", \"believe\", \"below\", \"beside\", \"besides\", \"best\", \"better\", \"between\", \"beyond\", \"bi\", \"bill\", \"biol\", \"bj\", \"bk\", \"bl\", \"bn\", \"both\", \"bottom\", \"bp\", \"br\", \"brief\", \"briefly\", \"bs\", \"bt\", \"bu\", \"but\", \"bx\", \"by\", \"c\", \"c1\", \"c2\", \"c3\", \"ca\", \"call\", \"came\", \"can\", \"cannot\", \"cant\", \"can't\", \"cause\", \"causes\", \"cc\", \"cd\", \"ce\", \"certain\", \"certainly\", \"cf\", \"cg\", \"ch\", \"changes\", \"ci\", \"cit\", \"cj\", \"cl\", \"clearly\", \"cm\", \"c'mon\", \"cn\", \"co\", \"com\", \"come\", \"comes\", \"con\", \"concerning\", \"consequently\", \"consider\", \"considering\", \"contain\", \"containing\", \"contains\", \"corresponding\", \"could\", \"couldn\", \"couldnt\", \"couldn't\", \"course\", \"cp\", \"cq\", \"cr\", \"cry\", \"cs\", \"c's\", \"ct\", \"cu\", \"currently\", \"cv\", \"cx\", \"cy\", \"cz\", \"d\", \"d2\", \"da\", \"date\", \"dc\", \"dd\", \"de\", \"definitely\", \"describe\", \"described\", \"despite\", \"detail\", \"df\", \"di\", \"did\", \"didn\", \"didn't\", \"different\", \"dj\", \"dk\", \"dl\", \"do\", \"does\", \"doesn\", \"doesn't\", \"doing\", \"don\", \"done\", \"don't\", \"down\", \"downwards\", \"dp\", \"dr\", \"ds\", \"dt\", \"du\", \"due\", \"during\", \"dx\", \"dy\", \"e\", \"e2\", \"e3\", \"ea\", \"each\", \"ec\", \"ed\", \"edu\", \"ee\", \"ef\", \"effect\", \"eg\", \"ei\", \"eight\", \"eighty\", \"either\", \"ej\", \"el\", \"eleven\", \"else\", \"elsewhere\", \"em\", \"empty\", \"en\", \"end\", \"ending\", \"enough\", \"entirely\", \"eo\", \"ep\", \"eq\", \"er\", \"es\", \"especially\", \"est\", \"et\", \"et-al\", \"etc\", \"eu\", \"ev\", \"even\", \"ever\", \"every\", \"everybody\", \"everyone\", \"everything\", \"everywhere\", \"ex\", \"exactly\", \"example\", \"except\", \"ey\", \"f\", \"f2\", \"fa\", \"far\", \"fc\", \"few\", \"ff\", \"fi\", \"fifteen\", \"fifth\", \"fify\", \"fill\", \"find\", \"fire\", \"first\", \"five\", \"fix\", \"fj\", \"fl\", \"fn\", \"fo\", \"followed\", \"following\", \"follows\", \"for\", \"former\", \"formerly\", \"forth\", \"forty\", \"found\", \"four\", \"fr\", \"from\", \"front\", \"fs\", \"ft\", \"fu\", \"full\", \"further\", \"furthermore\", \"fy\", \"g\", \"ga\", \"gave\", \"ge\", \"get\", \"gets\", \"getting\", \"gi\", \"give\", \"given\", \"gives\", \"giving\", \"gj\", \"gl\", \"go\", \"goes\", \"going\", \"gone\", \"got\", \"gotten\", \"gr\", \"greetings\", \"gs\", \"gy\", \"h\", \"h2\", \"h3\", \"had\", \"hadn\", \"hadn't\", \"happens\", \"hardly\", \"has\", \"hasn\", \"hasnt\", \"hasn't\", \"have\", \"haven\", \"haven't\", \"having\", \"he\", \"hed\", \"he'd\", \"he'll\", \"hello\", \"help\", \"hence\", \"her\", \"here\", \"hereafter\", \"hereby\", \"herein\", \"heres\", \"here's\", \"hereupon\", \"hers\", \"herself\", \"hes\", \"he's\", \"hh\", \"hi\", \"hid\", \"him\", \"himself\", \"his\", \"hither\", \"hj\", \"ho\", \"home\", \"hopefully\", \"how\", \"howbeit\", \"however\", \"how's\", \"hr\", \"hs\", \"http\", \"hu\", \"hundred\", \"hy\", \"i\", \"i2\", \"i3\", \"i4\", \"i6\", \"i7\", \"i8\", \"ia\", \"ib\", \"ibid\", \"ic\", \"id\", \"i'd\", \"ie\", \"if\", \"ig\", \"ignored\", \"ih\", \"ii\", \"ij\", \"il\", \"i'll\", \"im\", \"i'm\", \"immediate\", \"immediately\", \"importance\", \"important\", \"in\", \"inasmuch\", \"inc\", \"indeed\", \"index\", \"indicate\", \"indicated\", \"indicates\", \"information\", \"inner\", \"insofar\", \"instead\", \"interest\", \"into\", \"invention\", \"inward\", \"io\", \"ip\", \"iq\", \"ir\", \"is\", \"isn\", \"isn't\", \"it\", \"itd\", \"it'd\", \"it'll\", \"its\", \"it's\", \"itself\", \"iv\", \"i've\", \"ix\", \"iy\", \"iz\", \"j\", \"jj\", \"jr\", \"js\", \"jt\", \"ju\", \"just\", \"k\", \"ke\", \"keep\", \"keeps\", \"kept\", \"kg\", \"kj\", \"km\", \"know\", \"known\", \"knows\", \"ko\", \"l\", \"l2\", \"la\", \"largely\", \"last\", \"lately\", \"later\", \"latter\", \"latterly\", \"lb\", \"lc\", \"le\", \"least\", \"les\", \"less\", \"lest\", \"let\", \"lets\", \"let's\", \"lf\", \"like\", \"liked\", \"likely\", \"line\", \"little\", \"lj\", \"ll\", \"ll\", \"ln\", \"lo\", \"look\", \"looking\", \"looks\", \"los\", \"lr\", \"ls\", \"lt\", \"ltd\", \"m\", \"m2\", \"ma\", \"made\", \"mainly\", \"make\", \"makes\", \"many\", \"may\", \"maybe\", \"me\", \"mean\", \"means\", \"meantime\", \"meanwhile\", \"merely\", \"mg\", \"might\", \"mightn\", \"mightn't\", \"mill\", \"million\", \"mine\", \"miss\", \"ml\", \"mn\", \"mo\", \"more\", \"moreover\", \"most\", \"mostly\", \"move\", \"mr\", \"mrs\", \"ms\", \"mt\", \"mu\", \"much\", \"mug\", \"must\", \"mustn\", \"mustn't\", \"my\", \"myself\", \"n\", \"n2\", \"na\", \"name\", \"namely\", \"nay\", \"nc\", \"nd\", \"ne\", \"near\", \"nearly\", \"necessarily\", \"necessary\", \"need\", \"needn\", \"needn't\", \"needs\", \"neither\", \"never\", \"nevertheless\", \"new\", \"next\", \"ng\", \"ni\", \"nine\", \"ninety\", \"nj\", \"nl\", \"nn\", \"no\", \"nobody\", \"non\", \"none\", \"nonetheless\", \"noone\", \"nor\", \"normally\", \"nos\", \"not\", \"noted\", \"nothing\", \"novel\", \"now\", \"nowhere\", \"nr\", \"ns\", \"nt\", \"ny\", \"o\", \"oa\", \"ob\", \"obtain\", \"obtained\", \"obviously\", \"oc\", \"od\", \"of\", \"off\", \"often\", \"og\", \"oh\", \"oi\", \"oj\", \"ok\", \"okay\", \"ol\", \"old\", \"om\", \"omitted\", \"on\", \"once\", \"one\", \"ones\", \"only\", \"onto\", \"oo\", \"op\", \"oq\", \"or\", \"ord\", \"os\", \"ot\", \"other\", \"others\", \"otherwise\", \"ou\", \"ought\", \"our\", \"ours\", \"ourselves\", \"out\", \"outside\", \"over\", \"overall\", \"ow\", \"owing\", \"own\", \"ox\", \"oz\", \"p\", \"p1\", \"p2\", \"p3\", \"page\", \"pagecount\", \"pages\", \"par\", \"part\", \"particular\", \"particularly\", \"pas\", \"past\", \"pc\", \"pd\", \"pe\", \"per\", \"perhaps\", \"pf\", \"ph\", \"pi\", \"pj\", \"pk\", \"pl\", \"placed\", \"please\", \"plus\", \"pm\", \"pn\", \"po\", \"poorly\", \"possible\", \"possibly\", \"potentially\", \"pp\", \"pq\", \"pr\", \"predominantly\", \"present\", \"presumably\", \"previously\", \"primarily\", \"probably\", \"promptly\", \"proud\", \"provides\", \"ps\", \"pt\", \"pu\", \"put\", \"py\", \"q\", \"qj\", \"qu\", \"que\", \"quickly\", \"quite\", \"qv\", \"r\", \"r2\", \"ra\", \"ran\", \"rather\", \"rc\", \"rd\", \"re\", \"readily\", \"really\", \"reasonably\", \"recent\", \"recently\", \"ref\", \"refs\", \"regarding\", \"regardless\", \"regards\", \"related\", \"relatively\", \"research\", \"research-articl\", \"respectively\", \"resulted\", \"resulting\", \"results\", \"rf\", \"rh\", \"ri\", \"right\", \"rj\", \"rl\", \"rm\", \"rn\", \"ro\", \"rq\", \"rr\", \"rs\", \"rt\", \"ru\", \"run\", \"rv\", \"ry\", \"s\", \"s2\", \"sa\", \"said\", \"same\", \"saw\", \"say\", \"saying\", \"says\", \"sc\", \"sd\", \"se\", \"sec\", \"second\", \"secondly\", \"section\", \"see\", \"seeing\", \"seem\", \"seemed\", \"seeming\", \"seems\", \"seen\", \"self\", \"selves\", \"sensible\", \"sent\", \"serious\", \"seriously\", \"seven\", \"several\", \"sf\", \"shall\", \"shan\", \"shan't\", \"she\", \"shed\", \"she'd\", \"she'll\", \"shes\", \"she's\", \"should\", \"shouldn\", \"shouldn't\", \"should've\", \"show\", \"showed\", \"shown\", \"showns\", \"shows\", \"si\", \"side\", \"significant\", \"significantly\", \"similar\", \"similarly\", \"since\", \"sincere\", \"six\", \"sixty\", \"sj\", \"sl\", \"slightly\", \"sm\", \"sn\", \"so\", \"some\", \"somebody\", \"somehow\", \"someone\", \"somethan\", \"something\", \"sometime\", \"sometimes\", \"somewhat\", \"somewhere\", \"soon\", \"sorry\", \"sp\", \"specifically\", \"specified\", \"specify\", \"specifying\", \"sq\", \"sr\", \"ss\", \"st\", \"still\", \"stop\", \"strongly\", \"sub\", \"substantially\", \"successfully\", \"such\", \"sufficiently\", \"suggest\", \"sup\", \"sure\", \"sy\", \"system\", \"sz\", \"t\", \"t1\", \"t2\", \"t3\", \"take\", \"taken\", \"taking\", \"tb\", \"tc\", \"td\", \"te\", \"tell\", \"ten\", \"tends\", \"tf\", \"th\", \"than\", \"thank\", \"thanks\", \"thanx\", \"that\", \"that'll\", \"thats\", \"that's\", \"that've\", \"the\", \"their\", \"theirs\", \"them\", \"themselves\", \"then\", \"thence\", \"there\", \"thereafter\", \"thereby\", \"thered\", \"therefore\", \"therein\", \"there'll\", \"thereof\", \"therere\", \"theres\", \"there's\", \"thereto\", \"thereupon\", \"there've\", \"these\", \"they\", \"theyd\", \"they'd\", \"they'll\", \"theyre\", \"they're\", \"they've\", \"thickv\", \"thin\", \"think\", \"third\", \"this\", \"thorough\", \"thoroughly\", \"those\", \"thou\", \"though\", \"thoughh\", \"thousand\", \"three\", \"throug\", \"through\", \"throughout\", \"thru\", \"thus\", \"ti\", \"til\", \"tip\", \"tj\", \"tl\", \"tm\", \"tn\", \"to\", \"together\", \"too\", \"took\", \"top\", \"toward\", \"towards\", \"tp\", \"tq\", \"tr\", \"tried\", \"tries\", \"truly\", \"try\", \"trying\", \"ts\", \"t's\", \"tt\", \"tv\", \"twelve\", \"twenty\", \"twice\", \"two\", \"tx\", \"u\", \"u201d\", \"ue\", \"ui\", \"uj\", \"uk\", \"um\", \"un\", \"under\", \"unfortunately\", \"unless\", \"unlike\", \"unlikely\", \"until\", \"unto\", \"uo\", \"up\", \"upon\", \"ups\", \"ur\", \"us\", \"use\", \"used\", \"useful\", \"usefully\", \"usefulness\", \"uses\", \"using\", \"usually\", \"ut\", \"v\", \"va\", \"value\", \"various\", \"vd\", \"ve\", \"ve\", \"very\", \"via\", \"viz\", \"vj\", \"vo\", \"vol\", \"vols\", \"volumtype\", \"vq\", \"vs\", \"vt\", \"vu\", \"w\", \"wa\", \"want\", \"wants\", \"was\", \"wasn\", \"wasnt\", \"wasn't\", \"way\", \"we\", \"wed\", \"we'd\", \"welcome\", \"well\", \"we'll\", \"well-b\", \"went\", \"were\", \"we're\", \"weren\", \"werent\", \"weren't\", \"we've\", \"what\", \"whatever\", \"what'll\", \"whats\", \"what's\", \"when\", \"whence\", \"whenever\", \"when's\", \"where\", \"whereafter\", \"whereas\", \"whereby\", \"wherein\", \"wheres\", \"where's\", \"whereupon\", \"wherever\", \"whether\", \"which\", \"while\", \"whim\", \"whither\", \"who\", \"whod\", \"whoever\", \"whole\", \"who'll\", \"whom\", \"whomever\", \"whos\", \"who's\", \"whose\", \"why\", \"why's\", \"wi\", \"widely\", \"will\", \"willing\", \"wish\", \"with\", \"within\", \"without\", \"wo\", \"won\", \"wonder\", \"wont\", \"won't\", \"words\", \"world\", \"would\", \"wouldn\", \"wouldnt\", \"wouldn't\", \"www\", \"x\", \"x1\", \"x2\", \"x3\", \"xf\", \"xi\", \"xj\", \"xk\", \"xl\", \"xn\", \"xo\", \"xs\", \"xt\", \"xv\", \"xx\", \"y\", \"y2\", \"yes\", \"yet\", \"yj\", \"yl\", \"you\", \"youd\", \"you'd\", \"you'll\", \"your\", \"youre\", \"you're\", \"yours\", \"yourself\", \"yourselves\", \"you've\", \"yr\", \"ys\", \"yt\", \"z\", \"zero\", \"zi\", \"zz\"\n",
    "]\n",
    "\n",
    "def parse_page(text: str) -> str:\n",
    "    # Heuristic: everything before \" page\" or first colon\n",
    "    if \" page\" in text.lower():\n",
    "        return text.split(\" page\", 1)[0].strip().title()\n",
    "    return text.split(\":\", 1)[0].strip().title()\n",
    "\n",
    "rows = []\n",
    "for i, it in enumerate(SCENARIO, 1):\n",
    "    rows.append({\n",
    "        \"Step\": i,\n",
    "        \"Privacy\": \"Private\" if it[\"privacy\"] else \"Public\",\n",
    "        \"Page\": parse_page(it[\"text\"]),\n",
    "        \"Description\": it[\"text\"],\n",
    "    })"
   ]
  },
  {
   "cell_type": "markdown",
   "id": "15826a6c",
   "metadata": {},
   "source": [
    "## Transformer"
   ]
  },
  {
   "cell_type": "code",
   "execution_count": 4,
   "id": "5999842f",
   "metadata": {},
   "outputs": [
    {
     "name": "stdout",
     "output_type": "stream",
     "text": [
      "CMRTransformer ready on mps\n"
     ]
    }
   ],
   "source": [
    "# C1 — Instantiate CMRTransformer\n",
    "\n",
    "# Minimal config object with only required fields\n",
    "base_cfg = SimpleNamespace(vocab_size=50257, num_hidden_layers=8)\n",
    "\n",
    "memory_config = {\n",
    "    \"target_layers\": TARGET_LAYERS,\n",
    "    \"buffer_size\": BUFFER_SIZE,\n",
    "}\n",
    "\n",
    "cmr = CMRTransformer(config=base_cfg, memory_config=memory_config)\n",
    "cmr.to(DEVICE)\n",
    "\n",
    "# Ensure nested layers move too (workaround for SimpleNamespace)\n",
    "if hasattr(cmr, \"transformer\") and hasattr(cmr.transformer, \"h\"):\n",
    "    for lyr in cmr.transformer.h:\n",
    "        lyr.to(DEVICE)\n",
    "\n",
    "print(\"CMRTransformer ready on\", DEVICE)"
   ]
  },
  {
   "cell_type": "markdown",
   "id": "b749d0f5",
   "metadata": {},
   "source": [
    "# Target Layer Validation"
   ]
  },
  {
   "cell_type": "code",
   "execution_count": 5,
   "id": "49edd11f",
   "metadata": {},
   "outputs": [
    {
     "name": "stdout",
     "output_type": "stream",
     "text": [
      "{'num_layers': 8, 'TARGET_LAYERS': [2, 4]}\n",
      "All target layers are valid.\n"
     ]
    }
   ],
   "source": [
    "# C2 — Validate target layers\n",
    "num_layers = len(cmr.transformer.h)\n",
    "invalid = [idx for idx in TARGET_LAYERS if idx < 0 or idx >= num_layers]\n",
    "print({\"num_layers\": num_layers, \"TARGET_LAYERS\": TARGET_LAYERS})\n",
    "if invalid:\n",
    "    print(\"Warning: some target layers are out of range:\", invalid)\n",
    "else:\n",
    "    print(\"All target layers are valid.\")"
   ]
  },
  {
   "cell_type": "markdown",
   "id": "089fe861",
   "metadata": {},
   "source": [
    "## Register Hooks"
   ]
  },
  {
   "cell_type": "code",
   "execution_count": 6,
   "id": "43fc7066",
   "metadata": {},
   "outputs": [
    {
     "name": "stdout",
     "output_type": "stream",
     "text": [
      "Active hook layers: [2, 4]\n"
     ]
    }
   ],
   "source": [
    "# C3 — Register memory hooks\n",
    "cmr.register_memory_hooks()\n",
    "active_hook_layers = sorted(list(cmr.layer_hooks.keys()))\n",
    "print(\"Active hook layers:\", active_hook_layers)"
   ]
  },
  {
   "cell_type": "markdown",
   "id": "e8098f1a",
   "metadata": {},
   "source": [
    "## Encoder / Decoder"
   ]
  },
  {
   "cell_type": "code",
   "execution_count": 7,
   "id": "24a8b172",
   "metadata": {},
   "outputs": [],
   "source": [
    "def toy_encode(text: str):\n",
    "    tokens = text.strip().split()\n",
    "    ids = []\n",
    "    for tok in tokens:\n",
    "        if tok not in toy_vocab:\n",
    "            toy_vocab[tok] = len(toy_vocab)\n",
    "        ids.append(toy_vocab.get(tok, toy_vocab[\"<unk>\"]))\n",
    "    return ids\n",
    "\n",
    "def toy_decode(ids):\n",
    "    inv_vocab = {i: t for t, i in toy_vocab.items()}\n",
    "    return \" \".join(inv_vocab.get(i, \"<unk>\") for i in ids)\n",
    "\n",
    "def encode(text: str) -> torch.LongTensor:\n",
    "    if hf_tokenizer is not None:\n",
    "        ids = hf_tokenizer.encode(text, add_special_tokens=False)\n",
    "    else:\n",
    "        ids = toy_encode(text)\n",
    "    if len(ids) == 0:\n",
    "        ids = [toy_vocab.get(\"<unk>\", 1)]\n",
    "    return torch.tensor(ids, dtype=torch.long, device=DEVICE).unsqueeze(0)  # [1, T]\n",
    "\n",
    "def decode(ids: torch.LongTensor) -> str:\n",
    "    arr = ids.detach().cpu().view(-1).tolist()\n",
    "    if hf_tokenizer is not None:\n",
    "        return hf_tokenizer.decode(arr)\n",
    "    return toy_decode(arr)\n"
   ]
  },
  {
   "cell_type": "markdown",
   "id": "1b70e166",
   "metadata": {},
   "source": [
    "## Setup Tokenizer"
   ]
  },
  {
   "cell_type": "code",
   "execution_count": 8,
   "id": "9221ae6d",
   "metadata": {},
   "outputs": [
    {
     "name": "stdout",
     "output_type": "stream",
     "text": [
      "Using HF tokenizer for: google/gemma-3-4b-it\n"
     ]
    }
   ],
   "source": [
    "if USE_HF_TOKENIZER:\n",
    "    try:\n",
    "        from transformers import AutoTokenizer\n",
    "        hf_tokenizer = AutoTokenizer.from_pretrained(MODEL_NAME)\n",
    "        print(\"Using HF tokenizer for:\", MODEL_NAME)\n",
    "    except Exception as e:\n",
    "        print(\"Falling back to toy tokenizer (HF load failed):\", e)\n",
    "        hf_tokenizer = None\n",
    "else:\n",
    "    print(\"Using toy tokenizer (default)\")"
   ]
  },
  {
   "cell_type": "markdown",
   "id": "7755139a",
   "metadata": {},
   "source": [
    "## Memory Search"
   ]
  },
  {
   "cell_type": "code",
   "execution_count": 9,
   "id": "f366e417",
   "metadata": {},
   "outputs": [
    {
     "name": "stdout",
     "output_type": "stream",
     "text": [
      "🔓 Step 1: Home — Home page: company overview, featured products, testimonials, and call-to-action buttons for sign-up.\n",
      "🔓 Step 2: About — About page: company history, mission statement, team bios, and office locations with contact details.\n",
      "🔓 Step 3: Products — Products page: catalog of available services with pricing tiers, feature comparisons, and demo videos.\n",
      "🔓 Step 4: Contact — Contact page: contact form, phone numbers, email addresses, live chat widget, and business hours.\n",
      "🔓 Step 5: Blog — Blog page: articles, tutorials, industry news, and SEO-optimized content with comment sections.\n",
      "🔓 Step 6: Pricing — Pricing page: subscription plans, feature matrix, annual vs monthly billing, and enterprise quotes.\n",
      "🔓 Step 7: Faq — FAQ page: common questions organized by category with search functionality and helpful resources.\n",
      "🔓 Step 8: Terms Of Service — Terms of Service page: legal agreements, user responsibilities, limitation of liability, and dispute resolution.\n",
      "🔓 Step 9: Privacy Policy — Privacy Policy page: data collection practices, cookie usage, third-party integrations, and user rights.\n",
      "🔓 Step 10: Careers — Careers page: open positions, company culture, benefits overview, and application submission portal.\n",
      "🔓 Step 11: Login — Login page: user authentication with email/password, social login options, and forgot password recovery.\n",
      "🔓 Step 12: Register — Register page: new user sign-up form with email verification, terms acceptance, and account activation.\n",
      "🔓 Step 13: User Dashboard — User Dashboard: personalized homepage showing account status, recent activity, and quick action buttons.\n",
      "🔓 Step 14: Profile Settings — Profile Settings: user information management, password changes, notification preferences, and account deletion.\n",
      "🔓 Step 15: Billing — Billing page: payment methods, invoice history, subscription management, and upgrade/downgrade options.\n",
      "🔓 Step 16: Order History — Order History: past purchases, order tracking, return requests, and downloadable receipts.\n",
      "🔓 Step 17: Shopping Cart — Shopping Cart: selected items, quantity adjustments, coupon codes, and checkout initiation.\n",
      "🔓 Step 18: Checkout — Checkout page: shipping information, payment processing, order review, and purchase confirmation.\n",
      "🔓 Step 19: Search Results — Search Results: product/content listings with filters, sorting options, and pagination controls.\n",
      "🔓 Step 20: Help Center — Help Center: knowledge base articles, video tutorials, troubleshooting guides, and ticket submission.\n",
      "🔓 Step 21: Api Documentation — API Documentation: endpoint references, authentication methods, code examples, and rate limiting info.\n",
      "🔓 Step 22: Downloads — Downloads page: software installers, user manuals, templates, and resource files with version history.\n",
      "🔓 Step 23: News — News page: press releases, company announcements, media coverage, and investor relations updates.\n",
      "🔓 Step 24: Events — Events page: upcoming webinars, conferences, product launches, and registration forms.\n",
      "🔓 Step 25: Partners — Partners page: integration listings, affiliate program details, and partner application process.\n",
      "🔓 Step 26: Sitemap — Sitemap page: hierarchical website structure with all public pages listed and organized by category.\n",
      "🔓 Step 27: 404 Error — 404 Error page: custom not found message with navigation suggestions and search functionality.\n",
      "🔓 Step 28: Maintenance — Maintenance page: scheduled downtime notification with estimated completion time and status updates.\n",
      "🔓 Step 29: Security — Security page: data protection measures, compliance certifications, and security best practices.\n",
      "🔓 Step 30: Mobile App — Mobile App page: download links for iOS/Android, feature highlights, and screenshot gallery.\n",
      "🔓 Step 31: Integrations — Integrations page: third-party service connections, setup instructions, and compatibility matrix.\n",
      "🔒 Step 32: Admin Dashboard — Admin Dashboard: system overview, user management controls, analytics data, and configuration settings. Contains administrative functions.\n",
      "🔒 Step 33: User Management — User Management: admin interface for viewing user accounts, permissions, suspension controls, and personal data. Contains PII.\n",
      "🔒 Step 34: Analytics Panel — Analytics Panel: detailed usage statistics, user behavior tracking, conversion metrics, and sensitive business data.\n",
      "🔒 Step 35: Database Admin — Database Admin: direct database access, query execution, backup management, and sensitive system data.\n",
      "🔒 Step 36: Financial Reports — Financial Reports: revenue data, transaction details, tax information, and confidential business metrics.\n",
      "🔒 Step 37: Employee Portal — Employee Portal: staff directory, salary information, performance reviews, and internal communications. Contains PII.\n",
      "🔒 Step 38: System Logs — System Logs: server logs, error tracking, security events, and debugging information with user data.\n",
      "🔒 Step 39: Configuration Manager — Configuration Manager: system settings, API keys, database credentials, and infrastructure management.\n",
      "🔒 Step 40: Backup Interface — Backup Interface: data recovery tools, backup scheduling, restore functions, and system maintenance access.\n",
      "🔒 Step 41: Security Center — Security Center: threat monitoring, access logs, vulnerability scans, and incident response tools.\n",
      "🔒 Step 42: Payment Processing — Payment Processing: transaction management, refund processing, merchant settings, and financial data access.\n",
      "🔒 Step 43: Customer Support Admin — Customer Support Admin: ticket management, user impersonation, chat monitoring, and PII access for support.\n",
      "🔒 Step 44: Marketing Analytics — Marketing Analytics: campaign performance, customer segments, A/B test results, and behavioral data.\n",
      "🔒 Step 45: Content Management — Content Management: CMS backend, publishing controls, media library, and editorial workflow management.\n",
      "🔒 Step 46: Api Management — API Management: endpoint monitoring, rate limiting controls, usage analytics, and developer key management.\n",
      "🔒 Step 47: Audit Trail — Audit Trail: compliance logging, user activity tracking, data access records, and regulatory reporting.\n",
      "🔒 Step 48: Hr Management — HR Management: employee records, hiring pipeline, payroll data, and confidential personnel information. Contains PII.\n",
      "🔒 Step 49: Legal Documents Manager — Legal Documents Manager: contracts, NDAs, compliance files, and confidential legal correspondence.\n",
      "🔒 Step 50: Vendor Management — Vendor Management: supplier contracts, payment processing, vendor onboarding, and procurement data.\n",
      "🔒 Step 51: Executive Dashboard — Executive Dashboard: board reports, strategic metrics, competitive analysis, and confidential business intelligence.\n",
      "🔒 Step 52: Data Export Tool — Data Export Tool: bulk data extraction, customer information downloads, and sensitive data migration utilities. Contains PII.\n",
      "🔒 Step 53: Email Campaign Manager — Email Campaign Manager: subscriber lists, email templates, delivery tracking, and customer communication data.\n",
      "🔒 Step 54: Inventory Management — Inventory Management: stock levels, supplier information, cost data, and warehouse operations interface.\n",
      "🔒 Step 55: Customer Service Tools — Customer Service Tools: case management, escalation procedures, customer history access, and support metrics.\n",
      "🔒 Step 56: Quality Assurance — Quality Assurance: testing environments, bug tracking, performance monitoring, and development tools access.\n",
      "🔒 Step 57: Compliance Dashboard — Compliance Dashboard: regulatory reporting, audit preparation, policy management, and risk assessment tools.\n",
      "Top positions:\n",
      "#1: pos=4, score=0.994\n",
      "#2: pos=9, score=0.994\n",
      "#3: pos=6, score=0.764\n",
      "#4: pos=3, score=0.688\n",
      "#5: pos=10, score=0.688\n"
     ]
    },
    {
     "name": "stderr",
     "output_type": "stream",
     "text": [
      "/var/folders/0t/mq3cq_z505nbzy4_cw1s4x_00000gn/T/ipykernel_13769/2660531025.py:30: UserWarning: Converting a tensor with requires_grad=True to a scalar may lead to unexpected behavior.\n",
      "Consider using tensor.detach() first. (Triggered internally at /Users/runner/work/pytorch/pytorch/pytorch/torch/csrc/autograd/generated/python_variable_methods.cpp:836.)\n",
      "  print(f\"#{rank+1}: pos={int(idxs[rank])}, score={float(vals[rank]):.3f}\")\n"
     ]
    }
   ],
   "source": [
    "# E3 — Storyboard (emoji)\n",
    "for r in rows:\n",
    "    lock = \"🔒\" if r[\"Privacy\"] == \"Private\" else \"🔓\"\n",
    "    print(f\"{lock} Step {r['Step']}: {r['Page']} — {r['Description']}\")\n",
    "\n",
    "\n",
    "# I2 — Score positions on the last run's hidden states\n",
    "# Reuse the last call's enhanced hidden states if available\n",
    "try:\n",
    "    last_hidden = outputs.get(\"last_hidden_state\")  # [1, T, H]\n",
    "except Exception:\n",
    "    last_hidden = None\n",
    "\n",
    "if last_hidden is None:\n",
    "    # Fallback: run one more step to get hidden states\n",
    "    tmp = cmr(encode(SCENARIO[-1][\"text\"]))\n",
    "    last_hidden = tmp.get(\"last_hidden_state\")\n",
    "\n",
    "# Simple variance-based scoring over hidden dim\n",
    "scores = torch.var(last_hidden, dim=-1).squeeze(0)  # [T]\n",
    "# Normalize to [0,1]\n",
    "if scores.numel() > 0:\n",
    "    scores = (scores - scores.min()) / (scores.max() - scores.min() + 1e-8)\n",
    "\n",
    "# Show top-5 positions\n",
    "k = min(5, scores.numel())\n",
    "vals, idxs = torch.topk(scores, k)\n",
    "print(\"Top positions:\")\n",
    "for rank in range(k):\n",
    "    print(f\"#{rank+1}: pos={int(idxs[rank])}, score={float(vals[rank]):.3f}\")"
   ]
  },
  {
   "cell_type": "markdown",
   "id": "5d56312b",
   "metadata": {},
   "source": [
    "## Decode Memory Search Results"
   ]
  },
  {
   "cell_type": "code",
   "execution_count": 17,
   "id": "b07cdd7b",
   "metadata": {},
   "outputs": [
    {
     "data": {
      "text/plain": [
       "['Billing page: payment methods, invoice history, subscription management, and upgrade/downgrade options.',\n",
       " 'Pricing page: subscription plans, feature matrix, annual vs monthly billing, and enterprise quotes.',\n",
       " 'Compliance Dashboard: regulatory reporting, audit preparation, policy management, and risk assessment tools.']"
      ]
     },
     "execution_count": 17,
     "metadata": {},
     "output_type": "execute_result"
    }
   ],
   "source": [
    "def _tokens(s: str):\n",
    "    return set(re.findall(r\"[a-z0-9]+\", s.lower()))\n",
    "\n",
    "# Map scenario index to text for retrieval\n",
    "SCEN_TEXTS = [it[\"text\"] for it in SCENARIO] if 'SCENARIO' in globals() else []\n",
    "\n",
    "def retrieve_top_text_memories(query_text: str, k: int = 3):\n",
    "    if not SCEN_TEXTS:\n",
    "        return []\n",
    "    q = _tokens(query_text)\n",
    "    scored = []\n",
    "    for idx, txt in enumerate(SCEN_TEXTS):\n",
    "        t = _tokens(txt)\n",
    "        j = len(q & t) / (len(q | t) + 1e-6)\n",
    "        scored.append((j, idx, txt))\n",
    "    scored.sort(reverse=True)\n",
    "    return [txt for _, _, txt in scored[:k]]\n",
    "\n",
    "def remove_stop_words(text: str):\n",
    "    return \" \".join([word for word in text.split() if word not in STOPWORDS])\n",
    "\n",
    "USER_QUERY = remove_stop_words(\"I want to see the billing page \")\n",
    "context_snippets = retrieve_top_text_memories(USER_QUERY, k=3)\n",
    "\n",
    "context_snippets"
   ]
  }
 ],
 "metadata": {
  "kernelspec": {
   "display_name": ".venv",
   "language": "python",
   "name": "python3"
  },
  "language_info": {
   "codemirror_mode": {
    "name": "ipython",
    "version": 3
   },
   "file_extension": ".py",
   "mimetype": "text/x-python",
   "name": "python",
   "nbconvert_exporter": "python",
   "pygments_lexer": "ipython3",
   "version": "3.9.6"
  }
 },
 "nbformat": 4,
 "nbformat_minor": 5
}
